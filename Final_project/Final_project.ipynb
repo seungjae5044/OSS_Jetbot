{
 "cells": [
  {
   "cell_type": "markdown",
   "metadata": {},
   "source": [
    "<center><img src=\"../Picture Data/logo.png\" alt=\"Header\" style=\"width: 800px;\"/></center>"
   ]
  },
  {
   "cell_type": "code",
   "execution_count": null,
   "metadata": {},
   "outputs": [],
   "source": [
    "import ipywidgets.widgets as widgets\n",
    "controller = widgets.Controller(index=0)  #Replace with the index number of the controller you just tested\n",
    "display(controller)"
   ]
  },
  {
   "cell_type": "markdown",
   "metadata": {},
   "source": [
    "Import some module"
   ]
  },
  {
   "cell_type": "code",
   "execution_count": null,
   "metadata": {},
   "outputs": [],
   "source": [
    "#Import function library path\n",
    "from servoserial import ServoSerial\n",
    "from jetbot import Robot\n",
    "from jetbot import Camera\n",
    "from jetbot import bgr8_to_jpeg\n",
    "import threading\n",
    "import time\n",
    "# Thread function operation library\n",
    "import inspect\n",
    "import ctypes\n",
    "\n",
    "from IPython.display import display\n",
    "from jetbot import Camera, bgr8_to_jpeg\n",
    "import os\n",
    "from uuid import uuid1\n",
    "import cv2\n",
    "import numpy as np\n",
    "import PID\n",
    "from RGB_Lib import Programing_RGB\n",
    "RGB = Programing_RGB()"
   ]
  },
  {
   "cell_type": "code",
   "execution_count": null,
   "metadata": {},
   "outputs": [],
   "source": [
    "global color_x, color_y, color_radius\n",
    "color_x = color_y = color_radius = 0\n",
    "global color_lower\n",
    "color_lower = np.array([0,0,0])\n",
    "global color_upper\n",
    "color_upper = np.array([0,0,0])\n",
    "global xservo_pid, yservo_pid\n",
    "xservo_pid = PID.PositionalPID(1.9, 0.3, 0.35)\n",
    "yservo_pid = PID.PositionalPID(1.5, 0.2, 0.3)"
   ]
  },
  {
   "cell_type": "code",
   "execution_count": null,
   "metadata": {},
   "outputs": [],
   "source": [
    "camera = Camera.instance(width=720, height=720)\n"
   ]
  },
  {
   "cell_type": "code",
   "execution_count": null,
   "metadata": {},
   "outputs": [],
   "source": [
    "color_image = widgets.Image(format='jpeg', width=300, height=300)"
   ]
  },
  {
   "cell_type": "code",
   "execution_count": null,
   "metadata": {},
   "outputs": [],
   "source": [
    "def _async_raise(tid, exctype):\n",
    "    \"\"\"raises the exception, performs cleanup if needed\"\"\"\n",
    "    tid = ctypes.c_long(tid)\n",
    "    if not inspect.isclass(exctype):\n",
    "        exctype = type(exctype)\n",
    "    res = ctypes.pythonapi.PyThreadState_SetAsyncExc(tid, ctypes.py_object(exctype))\n",
    "    \n",
    "    if res == 0:\n",
    "        raise ValueError(\"invalid thread id\")\n",
    "    elif res != 1:\n",
    "        # \"\"\"if it returns a number greater than one, you're in trouble,\n",
    "        # and you should call it again with exc=NULL to revert the effect\"\"\"\n",
    "        ctypes.pythonapi.PyThreadState_SetAsyncExc(tid, None)\n",
    "        \n",
    "def stop_thread(thread):\n",
    "    _async_raise(thread.ident, SystemExit)"
   ]
  },
  {
   "cell_type": "markdown",
   "metadata": {},
   "source": [
    "Method for creating up, down, left, and right movements of a PTZ camera separately"
   ]
  },
  {
   "cell_type": "code",
   "execution_count": null,
   "metadata": {},
   "outputs": [],
   "source": [
    "'''Servo Part'''\n",
    "servo_device = ServoSerial() \n",
    "def camUpFunction():\n",
    "    global updownpulse\n",
    "    updownpulse+=15\n",
    "    if updownpulse>4095:\n",
    "        updownpulse=4095\n",
    "    servo_device.Servo_serial_control(2, updownpulse)\n",
    "\n",
    "def camDownFunction():\n",
    "    global updownpulse\n",
    "    updownpulse-=15\n",
    "    if updownpulse<1300:\n",
    "        updownpulse=1300\n",
    "    servo_device.Servo_serial_control(2, updownpulse)\n",
    "\n",
    "def camLeftFunction():\n",
    "    global leftrightpulse\n",
    "    leftrightpulse+=15\n",
    "    if leftrightpulse>3600:\n",
    "        leftrightpulse=3600\n",
    "    servo_device.Servo_serial_control(1, leftrightpulse)\n",
    "\n",
    "def camRightFunction():\n",
    "    global leftrightpulse\n",
    "    leftrightpulse-=15\n",
    "    if leftrightpulse<600:\n",
    "        leftrightpulse=600\n",
    "    servo_device.Servo_serial_control(1, leftrightpulse)\n",
    "\n",
    "def camservoInitFunction():\n",
    "    SERVO_MID = 2180\n",
    "    global leftrightpulse, updownpulse\n",
    "    leftrightpulse = 2048\n",
    "    updownpulse = 2048\n",
    "    servo_device.Servo_serial_control(1, SERVO_MID)\n",
    "    time.sleep(0.1)\n",
    "    servo_device.Servo_serial_control(2, 2048)"
   ]
  },
  {
   "cell_type": "markdown",
   "metadata": {},
   "source": [
    "### Load the Robot class\n",
    "This class allows us to easily control the JetBot motor"
   ]
  },
  {
   "cell_type": "code",
   "execution_count": null,
   "metadata": {},
   "outputs": [],
   "source": [
    "robot = Robot()"
   ]
  },
  {
   "cell_type": "code",
   "execution_count": null,
   "metadata": {},
   "outputs": [],
   "source": [
    "def BLN_Onboard():\n",
    "    count4 = 0\n",
    "    thread2 = threading.Thread(target=jetbot_motion)\n",
    "    thread2.setDaemon(True)\n",
    "    thread3 = threading.Thread(target=color_detect)\n",
    "    thread3.setDaemon(True)\n",
    "    thread4 = threading.Thread(target=auto_drive)\n",
    "    thread4.setDaemon(True)\n",
    "    global i , k\n",
    "    i = k = 0\n",
    "    while True:\n",
    "        if k == 0:\n",
    "            robot.set_bln(i)\n",
    "            i += 0.01\n",
    "            if( i >= 1 ):\n",
    "                k = 1\n",
    "            time.sleep(0.005)\n",
    "        elif k == 1:\n",
    "            robot.set_bln(i)\n",
    "            i -=0.01\n",
    "            if i <= 0 :\n",
    "                k = 0\n",
    "            time.sleep(0.005)\n",
    "        if controller.buttons[0].value == True:\n",
    "            count4 += 1\n",
    "            if count4 >= 3:\n",
    "                if thread2.isAlive() == False:\n",
    "                    thread2 = threading.Thread(target=jetbot_motion)\n",
    "                    thread2.setDaemon(True)\n",
    "                    thread2.start()\n",
    "                if thread3.isAlive():\n",
    "                    stop_thread(thread3)\n",
    "                if thread4.isAlive():\n",
    "                    stop_thread(thread4)\n",
    "                    robot.stop()\n",
    "                count4 = 0\n",
    "                \n",
    "        elif controller.buttons[1].value == True:\n",
    "            count4 += 1\n",
    "            if count4 >= 3:\n",
    "                if thread3.isAlive() == False:\n",
    "                    thread3 = threading.Thread(target=color_detect)\n",
    "                    thread3.setDaemon(True)\n",
    "                    thread3.start()\n",
    "                if thread4.isAlive():\n",
    "                    stop_thread(thread4)\n",
    "                    robot.stop()\n",
    "                count4 = 0\n",
    "                \n",
    "        elif controller.buttons[2].value == True:\n",
    "            count4 += 1\n",
    "            if count4 >= 3:\n",
    "                if thread2.isAlive():\n",
    "                    stop_thread(thread2)\n",
    "                if thread3.isAlive():\n",
    "                    stop_thread(thread3)\n",
    "                          \n",
    "                if thread4.isAlive() == False:\n",
    "                    thread4 = threading.Thread(target=auto_drive)\n",
    "                    thread4.setDaemon(True)\n",
    "                    thread4.start()\n",
    "                count4 = 0\n",
    "                \n",
    "        elif controller.buttons[3].value == True:\n",
    "            count4 += 1\n",
    "            if count4 >= 3:\n",
    "                if thread2.isAlive():\n",
    "                    stop_thread(thread2)\n",
    "                if thread3.isAlive():\n",
    "                    stop_thread(thread3)\n",
    "                if thread4.isAlive():\n",
    "                    stop_thread(thread4)\n",
    "                robot.stop()\n",
    "                count4 = 0\n",
    "        else:\n",
    "            count4 = 0"
   ]
  },
  {
   "cell_type": "markdown",
   "metadata": {},
   "source": [
    "Turn on the onboard breathing light independent process by running the cell code below"
   ]
  },
  {
   "cell_type": "code",
   "execution_count": null,
   "metadata": {},
   "outputs": [],
   "source": [
    "def jetbot_motion():\n",
    "    RGB.Set_All_RGB(255,0,0)\n",
    "    count1 = count2 = count3 = count4 =  count5 = 0\n",
    "    while 1:\n",
    "        \n",
    "        if controller.axes[1].value <= 0.1:\n",
    "            if (controller.axes[0].value <= 0.1 and controller.axes[0].value >= -0.1 \n",
    "                and controller.axes[1].value <= 0.1 and controller.axes[1].value >= -0.1):\n",
    "                robot.stop()\n",
    "            else:\n",
    "                robot.set_motors(-controller.axes[1].value + controller.axes[0].value, -controller.axes[1].value - controller.axes[0].value)\n",
    "            \n",
    "            time.sleep(0.01)\n",
    "        else:\n",
    "            robot.set_motors(-controller.axes[1].value - controller.axes[0].value, -controller.axes[1].value + controller.axes[0].value)\n",
    "            time.sleep(0.01)\n",
    "            \n",
    "        if controller.axes[3].value == 1:\n",
    "            count1  += 1\n",
    "            if count1 >= 3:\n",
    "                camDownFunction()\n",
    "                count1 = 0\n",
    "        elif controller.axes[3].value == -1:\n",
    "            count1  += 1\n",
    "            if count1 >= 3:\n",
    "                camUpFunction()\n",
    "                count1 = 0\n",
    "        else:\n",
    "            count1 = 0\n",
    "        if controller.axes[2].value == 1:\n",
    "            count2  += 1\n",
    "            if count2 >= 3:\n",
    "                camRightFunction()\n",
    "                count2 = 0\n",
    "        elif controller.axes[2].value == -1:\n",
    "            count2  += 1\n",
    "            if count2 >= 3:\n",
    "                camLeftFunction()\n",
    "                count2 = 0\n",
    "        else:\n",
    "            count2 = 0\n",
    "        #Servo control camera up down, left and right is reset\n",
    "        if controller.buttons[8].value == True:\n",
    "            count3 += 1\n",
    "            if count3 >= 3:\n",
    "                camservoInitFunction()\n",
    "                count3 = 0\n",
    "        else:\n",
    "            count3 = 0\n",
    "        \n",
    "        #Servo control servo rise and decline\n",
    "        if controller.buttons[6].value == True:\n",
    "            print()\n",
    "            count4 += 1\n",
    "            if count4 >= 3:\n",
    "                robot.set_vertical_motors(1)\n",
    "                count4 = 0\n",
    "        elif controller.buttons[4].value == True:\n",
    "            count4 += 1\n",
    "            if count4 >= 3:\n",
    "                robot.set_vertical_motors(-1)\n",
    "                count4 = 0\n",
    "        else:\n",
    "            robot.set_vertical_motors(0)\n",
    "            count4 = 0"
   ]
  },
  {
   "cell_type": "code",
   "execution_count": null,
   "metadata": {},
   "outputs": [],
   "source": [
    "def kmeans(X, k, max_iters=50):\n",
    "    # 데이터 포인트의 수와 특성의 수 확인\n",
    "    m, n = X.shape\n",
    "\n",
    "    # 초기 중심 선택\n",
    "    centroids = X[np.random.choice(m, k, replace=False)]\n",
    "\n",
    "    for _ in range(max_iters):\n",
    "       \n",
    "        distances = np.linalg.norm(X[:, np.newaxis] - centroids, axis=2)\n",
    "        labels = np.argmin(distances, axis=1)\n",
    "\n",
    "        # 중심 재계산\n",
    "        new_centroids = np.array([X[labels == j].mean(axis=0) for j in range(k)])\n",
    "\n",
    "        # 수렴 여부 확인\n",
    "        if np.all(centroids == new_centroids):\n",
    "            break\n",
    "\n",
    "        centroids = new_centroids\n",
    "\n",
    "    return centroids, labels"
   ]
  },
  {
   "cell_type": "code",
   "execution_count": null,
   "metadata": {},
   "outputs": [],
   "source": [
    "def color_detect(): \n",
    "    global color_lower\n",
    "    global color_upper\n",
    "    RGB.OFF_ALL_RGB()\n",
    "    frame = camera.value\n",
    "    frame_c = frame.reshape(-1,3)\n",
    "    data = frame_c\n",
    "    k = 5\n",
    "    centroids, labels = kmeans(data, k)\n",
    "\n",
    "    labels, counts = np.unique(labels, return_counts=True)\n",
    "    cen = labels[counts.argmax()]\n",
    "    mask_color = centroids[cen].astype(int)\n",
    "    \n",
    "    mask_hsv = cv2.cvtColor(np.uint8([[mask_color]]),cv2.COLOR_BGR2HSV)\n",
    "    mask_hsv = mask_hsv[0][0]\n",
    "    color_lower = np.array([max(mask_hsv[0]-20,0),max(mask_hsv[1]-50,0),max(mask_hsv[2]-60,0)])\n",
    "    color_upper = np.array([min(mask_hsv[0]+20,255),min(mask_hsv[1]+50,255),min(mask_hsv[2]+60,255)])\n",
    "    RGB.Set_All_RGB(255,255,255)\n",
    "    "
   ]
  },
  {
   "cell_type": "code",
   "execution_count": null,
   "metadata": {},
   "outputs": [],
   "source": [
    "def auto_drive():\n",
    "    global color_lower\n",
    "    global color_upper\n",
    "    global color_image\n",
    "    global xservo_pid, yservo_pid\n",
    "    global color_x, color_y, color_radius\n",
    "    RGB.Set_All_RGB(0,255,0)\n",
    "    while 1:\n",
    "        frame = camera.value\n",
    "        frame = cv2.resize(frame, (300, 300))\n",
    "        frame_=cv2.GaussianBlur(frame,(3,3),0)                    \n",
    "        hsv=cv2.cvtColor(frame,cv2.COLOR_BGR2HSV)\n",
    "        mask=cv2.inRange(hsv,color_lower,color_upper)  \n",
    "        mask=cv2.erode(mask,None,iterations=2)\n",
    "        mask=cv2.dilate(mask,None,iterations=2)\n",
    "        mask=cv2.GaussianBlur(mask,(11,11),0)\n",
    "        cnts=cv2.findContours(mask.copy(),cv2.RETR_EXTERNAL,cv2.CHAIN_APPROX_SIMPLE)[-2] \n",
    "        if len(cnts)>0:\n",
    "            cnt = max (cnts,key=cv2.contourArea)\n",
    "            (color_x,color_y),color_radius=cv2.minEnclosingCircle(cnt)\n",
    "        if color_radius > 10:\n",
    "            # Mark the detected color\n",
    "            cv2.circle(frame,(int(color_x),int(color_y)),int(color_radius),(255,0,255),2)  \n",
    "            #Proportion-Integration-Differentiation\n",
    "            xservo_pid.SystemOutput = color_x\n",
    "\n",
    "\n",
    "            target_x = 150\n",
    "            target_y = 150\n",
    "            speed = 0.8\n",
    "            turn = np.abs(target_x-color_x)/300\n",
    "            if color_x < target_x - 60:\n",
    "                robot.set_motors(speed-turn, speed)\n",
    "            elif color_x > target_x + 60:\n",
    "                robot.set_motors(speed, speed-turn)\n",
    "            elif color_radius>50:\n",
    "                robot.stop()\n",
    "            else:\n",
    "                robot.set_motors(speed, speed)\n",
    "    # Real-time return of image data for display\"\"\"\n",
    "        color_image.value = bgr8_to_jpeg(mask)"
   ]
  },
  {
   "cell_type": "code",
   "execution_count": null,
   "metadata": {},
   "outputs": [],
   "source": [
    "thread1 = threading.Thread(target=BLN_Onboard)\n",
    "thread1.start()"
   ]
  },
  {
   "cell_type": "code",
   "execution_count": null,
   "metadata": {},
   "outputs": [],
   "source": [
    "#color_image = widgets.Image(format='jpeg', width=300, height=300)\n",
    "display(color_image)"
   ]
  },
  {
   "cell_type": "code",
   "execution_count": null,
   "metadata": {},
   "outputs": [],
   "source": [
    "camera.value"
   ]
  },
  {
   "cell_type": "code",
   "execution_count": null,
   "metadata": {},
   "outputs": [],
   "source": [
    "while True:\n",
    "    frame = camera.value\n",
    "    color_image.value = bgr8_to_jpeg(frame)"
   ]
  },
  {
   "cell_type": "code",
   "execution_count": null,
   "metadata": {},
   "outputs": [],
   "source": [
    "RGB.OFF_ALL_RGB()"
   ]
  },
  {
   "cell_type": "code",
   "execution_count": null,
   "metadata": {},
   "outputs": [],
   "source": [
    "robot.stop()"
   ]
  },
  {
   "cell_type": "code",
   "execution_count": null,
   "metadata": {},
   "outputs": [],
   "source": [
    "thread1.isAlive"
   ]
  },
  {
   "cell_type": "code",
   "execution_count": null,
   "metadata": {},
   "outputs": [],
   "source": [
    "camera.stop()"
   ]
  },
  {
   "cell_type": "code",
   "execution_count": null,
   "metadata": {},
   "outputs": [],
   "source": []
  },
  {
   "cell_type": "code",
   "execution_count": null,
   "metadata": {},
   "outputs": [],
   "source": []
  },
  {
   "cell_type": "code",
   "execution_count": null,
   "metadata": {},
   "outputs": [],
   "source": []
  },
  {
   "cell_type": "code",
   "execution_count": null,
   "metadata": {},
   "outputs": [],
   "source": []
  },
  {
   "cell_type": "code",
   "execution_count": null,
   "metadata": {},
   "outputs": [],
   "source": []
  },
  {
   "cell_type": "code",
   "execution_count": null,
   "metadata": {},
   "outputs": [],
   "source": []
  },
  {
   "cell_type": "code",
   "execution_count": null,
   "metadata": {},
   "outputs": [],
   "source": []
  },
  {
   "cell_type": "code",
   "execution_count": null,
   "metadata": {},
   "outputs": [],
   "source": []
  },
  {
   "cell_type": "code",
   "execution_count": null,
   "metadata": {},
   "outputs": [],
   "source": []
  },
  {
   "cell_type": "code",
   "execution_count": null,
   "metadata": {},
   "outputs": [],
   "source": []
  },
  {
   "cell_type": "code",
   "execution_count": null,
   "metadata": {},
   "outputs": [],
   "source": []
  },
  {
   "cell_type": "code",
   "execution_count": null,
   "metadata": {},
   "outputs": [],
   "source": []
  },
  {
   "cell_type": "code",
   "execution_count": null,
   "metadata": {},
   "outputs": [],
   "source": []
  },
  {
   "cell_type": "code",
   "execution_count": null,
   "metadata": {},
   "outputs": [],
   "source": []
  },
  {
   "cell_type": "code",
   "execution_count": null,
   "metadata": {},
   "outputs": [],
   "source": []
  },
  {
   "cell_type": "code",
   "execution_count": null,
   "metadata": {},
   "outputs": [],
   "source": []
  },
  {
   "cell_type": "code",
   "execution_count": null,
   "metadata": {},
   "outputs": [],
   "source": []
  },
  {
   "cell_type": "code",
   "execution_count": null,
   "metadata": {},
   "outputs": [],
   "source": []
  },
  {
   "cell_type": "code",
   "execution_count": null,
   "metadata": {},
   "outputs": [],
   "source": []
  },
  {
   "cell_type": "code",
   "execution_count": null,
   "metadata": {},
   "outputs": [],
   "source": []
  },
  {
   "cell_type": "code",
   "execution_count": null,
   "metadata": {},
   "outputs": [],
   "source": []
  },
  {
   "cell_type": "code",
   "execution_count": null,
   "metadata": {},
   "outputs": [],
   "source": []
  },
  {
   "cell_type": "code",
   "execution_count": null,
   "metadata": {},
   "outputs": [],
   "source": []
  },
  {
   "cell_type": "code",
   "execution_count": null,
   "metadata": {},
   "outputs": [],
   "source": []
  },
  {
   "cell_type": "code",
   "execution_count": null,
   "metadata": {},
   "outputs": [],
   "source": []
  },
  {
   "cell_type": "code",
   "execution_count": null,
   "metadata": {},
   "outputs": [],
   "source": []
  }
 ],
 "metadata": {
  "kernelspec": {
   "display_name": "Python 3",
   "language": "python",
   "name": "python3"
  },
  "language_info": {
   "codemirror_mode": {
    "name": "ipython",
    "version": 3
   },
   "file_extension": ".py",
   "mimetype": "text/x-python",
   "name": "python",
   "nbconvert_exporter": "python",
   "pygments_lexer": "ipython3",
   "version": "3.6.9"
  }
 },
 "nbformat": 4,
 "nbformat_minor": 4
}
