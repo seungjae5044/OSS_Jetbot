{
 "cells": [
  {
   "cell_type": "code",
   "execution_count": 1,
   "metadata": {},
   "outputs": [
    {
     "data": {
      "application/vnd.jupyter.widget-view+json": {
       "model_id": "0af6cc07d2d542f68ff735f31d180b2d",
       "version_major": 2,
       "version_minor": 0
      },
      "text/plain": [
       "Controller()"
      ]
     },
     "metadata": {},
     "output_type": "display_data"
    }
   ],
   "source": [
    "import ipywidgets.widgets as widgets\n",
    "controller = widgets.Controller(index=0)  #Replace with the index number of the controller you just tested\n",
    "display(controller)"
   ]
  },
  {
   "cell_type": "code",
   "execution_count": 2,
   "metadata": {},
   "outputs": [],
   "source": [
    "#Import function library path\n",
    "from servoserial import ServoSerial\n",
    "from jetbot import Robot\n",
    "import traitlets\n",
    "from jetbot import Camera\n",
    "from jetbot import Heartbeat\n",
    "import threading\n",
    "import time\n",
    "# Thread function operation library\n",
    "import inspect\n",
    "import ctypes\n",
    "\n",
    "import traitlets\n",
    "from IPython.display import display\n",
    "from jetbot import Camera, bgr8_to_jpeg\n",
    "import os\n",
    "from uuid import uuid1\n",
    "import cv2\n",
    "import numpy as np\n",
    "from RGB_Lib import Programing_RGB\n",
    "RGB = Programing_RGB()"
   ]
  },
  {
   "cell_type": "code",
   "execution_count": 3,
   "metadata": {},
   "outputs": [
    {
     "ename": "NameError",
     "evalue": "name 'camera' is not defined",
     "output_type": "error",
     "traceback": [
      "\u001b[0;31m---------------------------------------------------------------------------\u001b[0m",
      "\u001b[0;31mNameError\u001b[0m                                 Traceback (most recent call last)",
      "\u001b[0;32m<ipython-input-3-dbd13303fc39>\u001b[0m in \u001b[0;36m<module>\u001b[0;34m\u001b[0m\n\u001b[1;32m      1\u001b[0m \u001b[0mimage\u001b[0m \u001b[0;34m=\u001b[0m \u001b[0mwidgets\u001b[0m\u001b[0;34m.\u001b[0m\u001b[0mImage\u001b[0m\u001b[0;34m(\u001b[0m\u001b[0mformat\u001b[0m\u001b[0;34m=\u001b[0m\u001b[0;34m'jpeg'\u001b[0m\u001b[0;34m,\u001b[0m \u001b[0mwidth\u001b[0m\u001b[0;34m=\u001b[0m\u001b[0;36m224\u001b[0m\u001b[0;34m,\u001b[0m \u001b[0mheight\u001b[0m\u001b[0;34m=\u001b[0m\u001b[0;36m224\u001b[0m\u001b[0;34m)\u001b[0m  \u001b[0;31m# this width and height doesn't necessarily have to match the camera\u001b[0m\u001b[0;34m\u001b[0m\u001b[0;34m\u001b[0m\u001b[0m\n\u001b[0;32m----> 2\u001b[0;31m \u001b[0mcamera_link\u001b[0m \u001b[0;34m=\u001b[0m \u001b[0mtraitlets\u001b[0m\u001b[0;34m.\u001b[0m\u001b[0mdlink\u001b[0m\u001b[0;34m(\u001b[0m\u001b[0;34m(\u001b[0m\u001b[0mcamera\u001b[0m\u001b[0;34m,\u001b[0m \u001b[0;34m'value'\u001b[0m\u001b[0;34m)\u001b[0m\u001b[0;34m,\u001b[0m \u001b[0;34m(\u001b[0m\u001b[0mimage\u001b[0m\u001b[0;34m,\u001b[0m \u001b[0;34m'value'\u001b[0m\u001b[0;34m)\u001b[0m\u001b[0;34m,\u001b[0m \u001b[0mtransform\u001b[0m\u001b[0;34m=\u001b[0m\u001b[0mbgr8_to_jpeg\u001b[0m\u001b[0;34m)\u001b[0m\u001b[0;34m\u001b[0m\u001b[0;34m\u001b[0m\u001b[0m\n\u001b[0m\u001b[1;32m      3\u001b[0m \u001b[0mdisplay\u001b[0m\u001b[0;34m(\u001b[0m\u001b[0mimage\u001b[0m\u001b[0;34m)\u001b[0m\u001b[0;34m\u001b[0m\u001b[0;34m\u001b[0m\u001b[0m\n",
      "\u001b[0;31mNameError\u001b[0m: name 'camera' is not defined"
     ]
    }
   ],
   "source": [
    "image = widgets.Image(format='jpeg', width=224, height=224)  # this width and height doesn't necessarily have to match the camera\n",
    "camera_link = traitlets.dlink((camera, 'value'), (image, 'value'), transform=bgr8_to_jpeg)\n",
    "display(image)"
   ]
  },
  {
   "cell_type": "code",
   "execution_count": null,
   "metadata": {},
   "outputs": [],
   "source": [
    "camera = Camera.instance(width=224, height=224)"
   ]
  },
  {
   "cell_type": "code",
   "execution_count": null,
   "metadata": {},
   "outputs": [],
   "source": [
    "def handle_heartbeat_status(change):\n",
    "    if change['new'] == Heartbeat.Status.dead:\n",
    "        camera_link.unlink()\n",
    "        robot.stop()\n",
    "\n",
    "heartbeat = Heartbeat(period=0.5)\n",
    "# Append the callback function to the heartbeat state\n",
    "heartbeat.observe(handle_heartbeat_status, names='status')"
   ]
  },
  {
   "cell_type": "code",
   "execution_count": null,
   "metadata": {},
   "outputs": [],
   "source": [
    "def _async_raise(tid, exctype):\n",
    "    \"\"\"raises the exception, performs cleanup if needed\"\"\"\n",
    "    tid = ctypes.c_long(tid)\n",
    "    if not inspect.isclass(exctype):\n",
    "        exctype = type(exctype)\n",
    "    res = ctypes.pythonapi.PyThreadState_SetAsyncExc(tid, ctypes.py_object(exctype))\n",
    "    if res == 0:\n",
    "        raise ValueError(\"invalid thread id\")\n",
    "    elif res != 1:\n",
    "        # \"\"\"if it returns a number greater than one, you're in trouble,\n",
    "        # and you should call it again with exc=NULL to revert the effect\"\"\"\n",
    "        ctypes.pythonapi.PyThreadState_SetAsyncExc(tid, None)\n",
    "        \n",
    "def stop_thread(thread):\n",
    "    _async_raise(thread.ident, SystemExit)"
   ]
  },
  {
   "cell_type": "code",
   "execution_count": null,
   "metadata": {},
   "outputs": [],
   "source": [
    "'''Servo Part'''\n",
    "servo_device = ServoSerial() \n",
    "def camUpFunction():\n",
    "    global updownpulse\n",
    "    updownpulse+=15\n",
    "    if updownpulse>4095:\n",
    "        updownpulse=4095\n",
    "    servo_device.Servo_serial_control(2, updownpulse)\n",
    "\n",
    "def camDownFunction():\n",
    "    global updownpulse\n",
    "    updownpulse-=15\n",
    "    if updownpulse<1300:\n",
    "        updownpulse=1300\n",
    "    servo_device.Servo_serial_control(2, updownpulse)\n",
    "\n",
    "def camLeftFunction():\n",
    "    global leftrightpulse\n",
    "    leftrightpulse+=15\n",
    "    if leftrightpulse>3600:\n",
    "        leftrightpulse=3600\n",
    "    servo_device.Servo_serial_control(1, leftrightpulse)\n",
    "\n",
    "def camRightFunction():\n",
    "    global leftrightpulse\n",
    "    leftrightpulse-=15\n",
    "    if leftrightpulse<600:\n",
    "        leftrightpulse=600\n",
    "    servo_device.Servo_serial_control(1, leftrightpulse)\n",
    "\n",
    "def camservoInitFunction():\n",
    "    global leftrightpulse, updownpulse\n",
    "    leftrightpulse = 2048\n",
    "    updownpulse = 2048\n",
    "    servo_device.Servo_serial_control(1, 2048)\n",
    "    time.sleep(0.1)\n",
    "    servo_device.Servo_serial_control(2, 2048)"
   ]
  },
  {
   "cell_type": "code",
   "execution_count": null,
   "metadata": {},
   "outputs": [],
   "source": [
    "camservoInitFunction()"
   ]
  },
  {
   "cell_type": "code",
   "execution_count": 8,
   "metadata": {},
   "outputs": [],
   "source": [
    "robot = Robot()"
   ]
  },
  {
   "cell_type": "code",
   "execution_count": 4,
   "metadata": {},
   "outputs": [],
   "source": [
    "def BLN_Onboard():\n",
    "    while 1:\n",
    "        frame = camera.value\n",
    "        \n",
    "#         hsv_frame = cv2.cvtColor(frame,cv2.COLOR_RGB2HSV)\n",
    "#         value = hsv_frame[:,:,2]\n",
    "#         value = value\n",
    "#         hsv_frame[:,:,2] = value\n",
    "#         rgb_frame = cv2.cvtColor(hsv_frame, cv2.COLOR_HSV2BGR)\n",
    "#         rgb_frame[:,:,0]\n",
    "        \n",
    "        blue_hist = cv2.calcHist([frame],[0],None,[256],[0,256])\n",
    "        grean_hist = cv2.calcHist([frame],[1],None,[256],[0,256])\n",
    "        red_hist = cv2.calcHist([frame],[2],None,[256],[0,256])\n",
    "        \n",
    "        #b = frame.mean(axis=0).mean(axis=0).astype('int')\n",
    "        #hex_b = np.vectorize(hex)(b)\n",
    "        \n",
    "        #rgb = np.array([red_hist.argmax(),grean_hist.argmax(),blue_hist.argmax()])\n",
    "        \n",
    "        RGB.Set_All_RGB(red_hist.argmax(),grean_hist.argmax(),blue_hist.argmax())"
   ]
  },
  {
   "cell_type": "code",
   "execution_count": 5,
   "metadata": {},
   "outputs": [],
   "source": [
    "thread1 = threading.Thread(target=BLN_Onboard)\n",
    "# thread1.setDaemon(True)\n",
    "thread1.start()"
   ]
  },
  {
   "cell_type": "code",
   "execution_count": 71,
   "metadata": {},
   "outputs": [
    {
     "ename": "ValueError",
     "evalue": "invalid thread id",
     "output_type": "error",
     "traceback": [
      "\u001b[0;31m---------------------------------------------------------------------------\u001b[0m",
      "\u001b[0;31mValueError\u001b[0m                                Traceback (most recent call last)",
      "\u001b[0;32m<ipython-input-71-ab57e357da0b>\u001b[0m in \u001b[0;36m<module>\u001b[0;34m\u001b[0m\n\u001b[0;32m----> 1\u001b[0;31m \u001b[0mstop_thread\u001b[0m\u001b[0;34m(\u001b[0m\u001b[0mthread1\u001b[0m\u001b[0;34m)\u001b[0m\u001b[0;34m\u001b[0m\u001b[0;34m\u001b[0m\u001b[0m\n\u001b[0m",
      "\u001b[0;32m<ipython-input-5-4b0a6a6c9a02>\u001b[0m in \u001b[0;36mstop_thread\u001b[0;34m(thread)\u001b[0m\n\u001b[1;32m     13\u001b[0m \u001b[0;34m\u001b[0m\u001b[0m\n\u001b[1;32m     14\u001b[0m \u001b[0;32mdef\u001b[0m \u001b[0mstop_thread\u001b[0m\u001b[0;34m(\u001b[0m\u001b[0mthread\u001b[0m\u001b[0;34m)\u001b[0m\u001b[0;34m:\u001b[0m\u001b[0;34m\u001b[0m\u001b[0;34m\u001b[0m\u001b[0m\n\u001b[0;32m---> 15\u001b[0;31m     \u001b[0m_async_raise\u001b[0m\u001b[0;34m(\u001b[0m\u001b[0mthread\u001b[0m\u001b[0;34m.\u001b[0m\u001b[0mident\u001b[0m\u001b[0;34m,\u001b[0m \u001b[0mSystemExit\u001b[0m\u001b[0;34m)\u001b[0m\u001b[0;34m\u001b[0m\u001b[0;34m\u001b[0m\u001b[0m\n\u001b[0m",
      "\u001b[0;32m<ipython-input-5-4b0a6a6c9a02>\u001b[0m in \u001b[0;36m_async_raise\u001b[0;34m(tid, exctype)\u001b[0m\n\u001b[1;32m      6\u001b[0m     \u001b[0mres\u001b[0m \u001b[0;34m=\u001b[0m \u001b[0mctypes\u001b[0m\u001b[0;34m.\u001b[0m\u001b[0mpythonapi\u001b[0m\u001b[0;34m.\u001b[0m\u001b[0mPyThreadState_SetAsyncExc\u001b[0m\u001b[0;34m(\u001b[0m\u001b[0mtid\u001b[0m\u001b[0;34m,\u001b[0m \u001b[0mctypes\u001b[0m\u001b[0;34m.\u001b[0m\u001b[0mpy_object\u001b[0m\u001b[0;34m(\u001b[0m\u001b[0mexctype\u001b[0m\u001b[0;34m)\u001b[0m\u001b[0;34m)\u001b[0m\u001b[0;34m\u001b[0m\u001b[0;34m\u001b[0m\u001b[0m\n\u001b[1;32m      7\u001b[0m     \u001b[0;32mif\u001b[0m \u001b[0mres\u001b[0m \u001b[0;34m==\u001b[0m \u001b[0;36m0\u001b[0m\u001b[0;34m:\u001b[0m\u001b[0;34m\u001b[0m\u001b[0;34m\u001b[0m\u001b[0m\n\u001b[0;32m----> 8\u001b[0;31m         \u001b[0;32mraise\u001b[0m \u001b[0mValueError\u001b[0m\u001b[0;34m(\u001b[0m\u001b[0;34m\"invalid thread id\"\u001b[0m\u001b[0;34m)\u001b[0m\u001b[0;34m\u001b[0m\u001b[0;34m\u001b[0m\u001b[0m\n\u001b[0m\u001b[1;32m      9\u001b[0m     \u001b[0;32melif\u001b[0m \u001b[0mres\u001b[0m \u001b[0;34m!=\u001b[0m \u001b[0;36m1\u001b[0m\u001b[0;34m:\u001b[0m\u001b[0;34m\u001b[0m\u001b[0;34m\u001b[0m\u001b[0m\n\u001b[1;32m     10\u001b[0m         \u001b[0;31m# \"\"\"if it returns a number greater than one, you're in trouble,\u001b[0m\u001b[0;34m\u001b[0m\u001b[0;34m\u001b[0m\u001b[0;34m\u001b[0m\u001b[0m\n",
      "\u001b[0;31mValueError\u001b[0m: invalid thread id"
     ]
    }
   ],
   "source": [
    "stop_thread(thread1)"
   ]
  },
  {
   "cell_type": "code",
   "execution_count": 72,
   "metadata": {},
   "outputs": [],
   "source": [
    "RGB.OFF_ALL_RGB()"
   ]
  },
  {
   "cell_type": "code",
   "execution_count": 51,
   "metadata": {},
   "outputs": [],
   "source": [
    "def jetbot_motion():\n",
    "    count1 = count2 = count3 = count4 =  count5 = 0\n",
    "    while 1:\n",
    "        \n",
    "        if controller.axes[1].value <= 0.1:\n",
    "            if (controller.axes[0].value <= 0.1 and controller.axes[0].value >= -0.1 \n",
    "                and controller.axes[1].value <= 0.1 and controller.axes[1].value >= -0.1):\n",
    "                robot.stop()\n",
    "            else:\n",
    "                robot.set_motors(-controller.axes[1].value + controller.axes[0].value, -controller.axes[1].value - controller.axes[0].value)\n",
    "            \n",
    "            time.sleep(0.01)\n",
    "        else:\n",
    "            robot.set_motors(-controller.axes[1].value - controller.axes[0].value, -controller.axes[1].value + controller.axes[0].value)\n",
    "            time.sleep(0.01)\n",
    "        if controller.axes[3].value == 1:\n",
    "            count1  += 1\n",
    "            if count1 >= 3:\n",
    "                camDownFunction()\n",
    "                count1 = 0\n",
    "        elif controller.axes[3].value == -1:\n",
    "            count1  += 1\n",
    "            if count1 >= 3:\n",
    "                camUpFunction()\n",
    "                count1 = 0\n",
    "        else:\n",
    "            count1 = 0\n",
    "        if controller.axes[2].value == 1:\n",
    "            count2  += 1\n",
    "            if count2 >= 3:\n",
    "                camRightFunction()\n",
    "                count2 = 0\n",
    "        elif controller.axes[2].value == -1:\n",
    "            count2  += 1\n",
    "            if count2 >= 3:\n",
    "                camLeftFunction()\n",
    "                count2 = 0\n",
    "        else:\n",
    "            count2 = 0\n",
    "        #Servo control camera up down, left and right is reset\n",
    "        if controller.buttons[8].value == True:\n",
    "            count3 += 1\n",
    "            if count3 >= 3:\n",
    "                camservoInitFunction()\n",
    "                count3 = 0\n",
    "        else:\n",
    "            count3 = 0\n",
    "        \n",
    "        #Servo control servo rise and decline\n",
    "        if controller.buttons[6].value == True:\n",
    "            count4 += 1\n",
    "            if count4 >= 3:\n",
    "                robot.set_vertical_motors(1)\n",
    "                count4 = 0\n",
    "        elif controller.buttons[4].value == True:\n",
    "            count4 += 1\n",
    "            if count4 >= 3:\n",
    "                robot.set_vertical_motors(-1)\n",
    "                count4 = 0\n",
    "        else:\n",
    "            robot.set_vertical_motors(0)\n",
    "            count4 = 0"
   ]
  },
  {
   "cell_type": "code",
   "execution_count": 52,
   "metadata": {},
   "outputs": [],
   "source": [
    "thread2 = threading.Thread(target=jetbot_motion)\n",
    "thread2.setDaemon(True)\n",
    "thread2.start()"
   ]
  },
  {
   "cell_type": "code",
   "execution_count": null,
   "metadata": {},
   "outputs": [],
   "source": [
    "stop_thread(thread1)"
   ]
  },
  {
   "cell_type": "code",
   "execution_count": null,
   "metadata": {},
   "outputs": [],
   "source": [
    "stop_thread(thread2)"
   ]
  },
  {
   "cell_type": "code",
   "execution_count": null,
   "metadata": {},
   "outputs": [],
   "source": [
    "RGB.OFF_ALL_RGB()"
   ]
  }
 ],
 "metadata": {
  "kernelspec": {
   "display_name": "Python 3",
   "language": "python",
   "name": "python3"
  },
  "language_info": {
   "codemirror_mode": {
    "name": "ipython",
    "version": 3
   },
   "file_extension": ".py",
   "mimetype": "text/x-python",
   "name": "python",
   "nbconvert_exporter": "python",
   "pygments_lexer": "ipython3",
   "version": "3.6.9"
  }
 },
 "nbformat": 4,
 "nbformat_minor": 4
}
