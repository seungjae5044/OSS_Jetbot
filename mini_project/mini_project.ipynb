{
 "cells": [
  {
   "cell_type": "code",
   "execution_count": 1,
   "metadata": {},
   "outputs": [
    {
     "data": {
      "application/vnd.jupyter.widget-view+json": {
       "model_id": "66f7b86849c347a3bf117e1b9aba155d",
       "version_major": 2,
       "version_minor": 0
      },
      "text/plain": [
       "Controller()"
      ]
     },
     "metadata": {},
     "output_type": "display_data"
    }
   ],
   "source": [
    "import ipywidgets.widgets as widgets\n",
    "controller = widgets.Controller(index=0)  #Replace with the index number of the controller you just tested\n",
    "display(controller)"
   ]
  },
  {
   "cell_type": "code",
   "execution_count": 2,
   "metadata": {},
   "outputs": [],
   "source": [
    "#Import function library path\n",
    "from servoserial import ServoSerial\n",
    "from jetbot import Robot\n",
    "import traitlets\n",
    "from jetbot import Camera\n",
    "from jetbot import Heartbeat\n",
    "import threading\n",
    "import time\n",
    "# Thread function operation library\n",
    "import inspect\n",
    "import ctypes\n",
    "\n",
    "import traitlets\n",
    "from IPython.display import display\n",
    "from jetbot import Camera, bgr8_to_jpeg\n",
    "import os\n",
    "from uuid import uuid1\n",
    "import cv2\n",
    "import numpy as np\n",
    "from RGB_Lib import Programing_RGB\n",
    "RGB = Programing_RGB()"
   ]
  },
  {
   "cell_type": "code",
   "execution_count": 14,
   "metadata": {},
   "outputs": [
    {
     "name": "stderr",
     "output_type": "stream",
     "text": [
      "Matplotlib is building the font cache; this may take a moment.\n"
     ]
    }
   ],
   "source": [
    "import matplotlib.pyplot as plt"
   ]
  },
  {
   "cell_type": "code",
   "execution_count": 3,
   "metadata": {},
   "outputs": [],
   "source": [
    "import torch"
   ]
  },
  {
   "cell_type": "code",
   "execution_count": 4,
   "metadata": {},
   "outputs": [
    {
     "data": {
      "text/plain": [
       "True"
      ]
     },
     "execution_count": 4,
     "metadata": {},
     "output_type": "execute_result"
    }
   ],
   "source": [
    "torch.cuda.is_available()"
   ]
  },
  {
   "cell_type": "code",
   "execution_count": 5,
   "metadata": {},
   "outputs": [
    {
     "data": {
      "text/plain": [
       "1"
      ]
     },
     "execution_count": 5,
     "metadata": {},
     "output_type": "execute_result"
    }
   ],
   "source": [
    "torch.cuda.device_count()"
   ]
  },
  {
   "cell_type": "code",
   "execution_count": 6,
   "metadata": {},
   "outputs": [
    {
     "data": {
      "text/plain": [
       "'NVIDIA Tegra X1'"
      ]
     },
     "execution_count": 6,
     "metadata": {},
     "output_type": "execute_result"
    }
   ],
   "source": [
    "torch.cuda.get_device_name(0)"
   ]
  },
  {
   "cell_type": "code",
   "execution_count": 7,
   "metadata": {},
   "outputs": [
    {
     "data": {
      "text/plain": [
       "<torch.cuda.device at 0x7f86b5aeb8>"
      ]
     },
     "execution_count": 7,
     "metadata": {},
     "output_type": "execute_result"
    }
   ],
   "source": [
    "torch.cuda.device(0)"
   ]
  },
  {
   "cell_type": "code",
   "execution_count": 8,
   "metadata": {},
   "outputs": [],
   "source": [
    "device = torch.device('cuda')"
   ]
  },
  {
   "cell_type": "code",
   "execution_count": 3,
   "metadata": {},
   "outputs": [],
   "source": [
    "camera = Camera.instance(width=224, height=224)"
   ]
  },
  {
   "cell_type": "code",
   "execution_count": 5,
   "metadata": {},
   "outputs": [
    {
     "data": {
      "application/vnd.jupyter.widget-view+json": {
       "model_id": "519b6eca79c941c2b3c20ad367eecf0c",
       "version_major": 2,
       "version_minor": 0
      },
      "text/plain": [
       "Image(value=b'\\xff\\xd8\\xff\\xe0\\x00\\x10JFIF\\x00\\x01\\x01\\x00\\x00\\x01\\x00\\x01\\x00\\x00\\xff\\xdb\\x00C\\x00\\x02\\x01\\x0…"
      ]
     },
     "metadata": {},
     "output_type": "display_data"
    }
   ],
   "source": [
    "image = widgets.Image(format='jpeg', width=224, height=224)  # this width and height doesn't necessarily have to match the camera\n",
    "camera_link = traitlets.dlink((camera, 'value'), (image, 'value'), transform=bgr8_to_jpeg)\n",
    "display(image)"
   ]
  },
  {
   "cell_type": "code",
   "execution_count": 6,
   "metadata": {},
   "outputs": [],
   "source": [
    "def handle_heartbeat_status(change):\n",
    "    if change['new'] == Heartbeat.Status.dead:\n",
    "        camera_link.unlink()\n",
    "        robot.stop()\n",
    "\n",
    "heartbeat = Heartbeat(period=0.5)\n",
    "# Append the callback function to the heartbeat state\n",
    "heartbeat.observe(handle_heartbeat_status, names='status')"
   ]
  },
  {
   "cell_type": "code",
   "execution_count": 7,
   "metadata": {},
   "outputs": [],
   "source": [
    "def _async_raise(tid, exctype):\n",
    "    \"\"\"raises the exception, performs cleanup if needed\"\"\"\n",
    "    tid = ctypes.c_long(tid)\n",
    "    if not inspect.isclass(exctype):\n",
    "        exctype = type(exctype)\n",
    "    res = ctypes.pythonapi.PyThreadState_SetAsyncExc(tid, ctypes.py_object(exctype))\n",
    "    if res == 0:\n",
    "        raise ValueError(\"invalid thread id\")\n",
    "    elif res != 1:\n",
    "        # \"\"\"if it returns a number greater than one, you're in trouble,\n",
    "        # and you should call it again with exc=NULL to revert the effect\"\"\"\n",
    "        ctypes.pythonapi.PyThreadState_SetAsyncExc(tid, None)\n",
    "        \n",
    "def stop_thread(thread):\n",
    "    _async_raise(thread.ident, SystemExit)"
   ]
  },
  {
   "cell_type": "code",
   "execution_count": 11,
   "metadata": {},
   "outputs": [
    {
     "name": "stdout",
     "output_type": "stream",
     "text": [
      "serial Open!\n",
      "serial Close!\n"
     ]
    }
   ],
   "source": [
    "'''Servo Part'''\n",
    "servo_device = ServoSerial() \n",
    "def camUpFunction():\n",
    "    global updownpulse\n",
    "    updownpulse+=15\n",
    "    if updownpulse>4095:\n",
    "        updownpulse=4095\n",
    "    servo_device.Servo_serial_control(2, updownpulse)\n",
    "\n",
    "def camDownFunction():\n",
    "    global updownpulse\n",
    "    updownpulse-=15\n",
    "    if updownpulse<1300:\n",
    "        updownpulse=1300\n",
    "    servo_device.Servo_serial_control(2, updownpulse)\n",
    "\n",
    "def camLeftFunction():\n",
    "    global leftrightpulse\n",
    "    leftrightpulse+=15\n",
    "    if leftrightpulse>3600:\n",
    "        leftrightpulse=3600\n",
    "    servo_device.Servo_serial_control(1, leftrightpulse)\n",
    "\n",
    "def camRightFunction():\n",
    "    global leftrightpulse\n",
    "    leftrightpulse-=15\n",
    "    if leftrightpulse<600:\n",
    "        leftrightpulse=600\n",
    "    servo_device.Servo_serial_control(1, leftrightpulse)\n",
    "\n",
    "def camservoInitFunction():\n",
    "    global leftrightpulse, updownpulse\n",
    "    leftrightpulse = 2048\n",
    "    updownpulse = 2048\n",
    "    servo_device.Servo_serial_control(1, 2048)\n",
    "    time.sleep(0.1)\n",
    "    servo_device.Servo_serial_control(2, 2048)"
   ]
  },
  {
   "cell_type": "code",
   "execution_count": 9,
   "metadata": {},
   "outputs": [
    {
     "name": "stdout",
     "output_type": "stream",
     "text": [
      "184\n",
      "b'\\xff\\xff\\x01\\x07\\x03*\\x08\\x00\\x00\\n\\xb8'\n",
      "183\n",
      "b'\\xff\\xff\\x02\\x07\\x03*\\x08\\x00\\x00\\n\\xb7'\n"
     ]
    }
   ],
   "source": [
    "camservoInitFunction()"
   ]
  },
  {
   "cell_type": "code",
   "execution_count": 10,
   "metadata": {},
   "outputs": [],
   "source": [
    "robot = Robot()"
   ]
  },
  {
   "cell_type": "code",
   "execution_count": 150,
   "metadata": {},
   "outputs": [],
   "source": [
    "def kmeans(X, k, max_iters=100):\n",
    "    # 데이터 포인트의 수와 특성의 수 확인\n",
    "    m, n = X.shape\n",
    "\n",
    "    # 초기 중심 선택\n",
    "    centroids = X[np.random.choice(m, k, replace=False)]\n",
    "    for _ in range(max_iters):\n",
    "        # 각 데이터 포인트에 대해 가장 가까운 중심 찾기\n",
    "        distances = torch.norm(X[:, None] - centroids, dim=2)\n",
    "        labels = torch.argmin(distances, dim = 1)\n",
    "\n",
    "        # 중심 재계산\n",
    "        new_centroids =[X[labels == j].mean(dim=0) for j in range(k)]\n",
    "\n",
    "        # 수렴 여부 확인\n",
    "        print(centroids.int(), new_centroids)\n",
    "        if np.all(list(centroids.int()) == new_centroids):\n",
    "            break\n",
    "\n",
    "        centroids = new_centroids\n",
    "\n",
    "    return centroids, labels"
   ]
  },
  {
   "cell_type": "code",
   "execution_count": 151,
   "metadata": {},
   "outputs": [],
   "source": [
    "a = torch.tensor(camera.value,dtype = torch.float32 ,device = device).reshape(-1, 3)"
   ]
  },
  {
   "cell_type": "code",
   "execution_count": 152,
   "metadata": {},
   "outputs": [
    {
     "name": "stdout",
     "output_type": "stream",
     "text": [
      "tensor([[ 38,  32,  27],\n",
      "        [126, 149, 164],\n",
      "        [ 27,  34,  43],\n",
      "        [ 97,  94,  88],\n",
      "        [159, 158, 165]], device='cuda:0', dtype=torch.int32) [<built-in method values of Tensor object at 0x7eb580f438>, <built-in method values of Tensor object at 0x7eb57eebd0>, <built-in method values of Tensor object at 0x7eb580fb88>, <built-in method values of Tensor object at 0x7eb580f6c0>, <built-in method values of Tensor object at 0x7eb580fb40>]\n"
     ]
    },
    {
     "ename": "TypeError",
     "evalue": "eq() received an invalid combination of arguments - got (builtin_function_or_method), but expected one of:\n * (Tensor other)\n      didn't match because some of the arguments have invalid types: (!builtin_function_or_method!)\n * (Number other)\n      didn't match because some of the arguments have invalid types: (!builtin_function_or_method!)\n",
     "output_type": "error",
     "traceback": [
      "\u001b[0;31m---------------------------------------------------------------------------\u001b[0m",
      "\u001b[0;31mTypeError\u001b[0m                                 Traceback (most recent call last)",
      "\u001b[0;32m<ipython-input-152-a6892c4dceb2>\u001b[0m in \u001b[0;36m<module>\u001b[0;34m\u001b[0m\n\u001b[0;32m----> 1\u001b[0;31m \u001b[0mcenter_color\u001b[0m\u001b[0;34m,\u001b[0m \u001b[0mlabels\u001b[0m \u001b[0;34m=\u001b[0m \u001b[0mkmeans\u001b[0m\u001b[0;34m(\u001b[0m\u001b[0ma\u001b[0m\u001b[0;34m,\u001b[0m\u001b[0;36m5\u001b[0m\u001b[0;34m)\u001b[0m\u001b[0;34m\u001b[0m\u001b[0;34m\u001b[0m\u001b[0m\n\u001b[0m\u001b[1;32m      2\u001b[0m \u001b[0mcenter_color\u001b[0m\u001b[0;34m\u001b[0m\u001b[0;34m\u001b[0m\u001b[0m\n",
      "\u001b[0;32m<ipython-input-150-b335c7f46476>\u001b[0m in \u001b[0;36mkmeans\u001b[0;34m(X, k, max_iters)\u001b[0m\n\u001b[1;32m     15\u001b[0m         \u001b[0;31m# 수렴 여부 확인\u001b[0m\u001b[0;34m\u001b[0m\u001b[0;34m\u001b[0m\u001b[0;34m\u001b[0m\u001b[0m\n\u001b[1;32m     16\u001b[0m         \u001b[0mprint\u001b[0m\u001b[0;34m(\u001b[0m\u001b[0mcentroids\u001b[0m\u001b[0;34m.\u001b[0m\u001b[0mint\u001b[0m\u001b[0;34m(\u001b[0m\u001b[0;34m)\u001b[0m\u001b[0;34m,\u001b[0m \u001b[0mnew_centroids\u001b[0m\u001b[0;34m)\u001b[0m\u001b[0;34m\u001b[0m\u001b[0;34m\u001b[0m\u001b[0m\n\u001b[0;32m---> 17\u001b[0;31m         \u001b[0;32mif\u001b[0m \u001b[0mnp\u001b[0m\u001b[0;34m.\u001b[0m\u001b[0mall\u001b[0m\u001b[0;34m(\u001b[0m\u001b[0mlist\u001b[0m\u001b[0;34m(\u001b[0m\u001b[0mcentroids\u001b[0m\u001b[0;34m.\u001b[0m\u001b[0mint\u001b[0m\u001b[0;34m(\u001b[0m\u001b[0;34m)\u001b[0m\u001b[0;34m)\u001b[0m \u001b[0;34m==\u001b[0m \u001b[0mnew_centroids\u001b[0m\u001b[0;34m)\u001b[0m\u001b[0;34m:\u001b[0m\u001b[0;34m\u001b[0m\u001b[0;34m\u001b[0m\u001b[0m\n\u001b[0m\u001b[1;32m     18\u001b[0m             \u001b[0;32mbreak\u001b[0m\u001b[0;34m\u001b[0m\u001b[0;34m\u001b[0m\u001b[0m\n\u001b[1;32m     19\u001b[0m \u001b[0;34m\u001b[0m\u001b[0m\n",
      "\u001b[0;31mTypeError\u001b[0m: eq() received an invalid combination of arguments - got (builtin_function_or_method), but expected one of:\n * (Tensor other)\n      didn't match because some of the arguments have invalid types: (!builtin_function_or_method!)\n * (Number other)\n      didn't match because some of the arguments have invalid types: (!builtin_function_or_method!)\n"
     ]
    }
   ],
   "source": [
    "center_color, labels = kmeans(a,5)\n",
    "center_color"
   ]
  },
  {
   "cell_type": "code",
   "execution_count": null,
   "metadata": {},
   "outputs": [],
   "source": [
    "center_color, labels = kmeans(camera.value, 5)\n",
    "center_color"
   ]
  },
  {
   "cell_type": "code",
   "execution_count": 12,
   "metadata": {},
   "outputs": [],
   "source": [
    "def BLN_Onboard():\n",
    "    while 1:\n",
    "        frame = camera.value\n",
    "        \n",
    "#         hsv_frame = cv2.cvtColor(frame,cv2.COLOR_RGB2HSV)\n",
    "#         value = hsv_frame[:,:,2]\n",
    "#         value = value\n",
    "#         hsv_frame[:,:,2] = value\n",
    "#         rgb_frame = cv2.cvtColor(hsv_frame, cv2.COLOR_HSV2BGR)\n",
    "#         rgb_frame[:,:,0]\n",
    "        \n",
    "        blue_hist = cv2.calcHist([frame],[0],None,[256],[0,256])\n",
    "        grean_hist = cv2.calcHist([frame],[1],None,[256],[0,256])\n",
    "        red_hist = cv2.calcHist([frame],[2],None,[256],[0,256])\n",
    "        \n",
    "        #b = frame.mean(axis=0).mean(axis=0).astype('int')\n",
    "        #hex_b = np.vectorize(hex)(b)\n",
    "        \n",
    "        #rgb = np.array([red_hist.argmax(),grean_hist.argmax(),blue_hist.argmax()])\n",
    "        \n",
    "        RGB.Set_All_RGB(red_hist.argmax(),grean_hist.argmax(),blue_hist.argmax())"
   ]
  },
  {
   "cell_type": "code",
   "execution_count": 23,
   "metadata": {},
   "outputs": [],
   "source": [
    "blue_hist = cv2.calcHist([camera.value],[0],None,[256],[0,256])\n",
    "green_hist = cv2.calcHist([camera.value],[1],None,[256],[0,256])\n",
    "red_hist = cv2.calcHist([camera.value],[2],None,[256],[0,256])"
   ]
  },
  {
   "cell_type": "code",
   "execution_count": 30,
   "metadata": {},
   "outputs": [
    {
     "data": {
      "text/plain": [
       "[<matplotlib.lines.Line2D at 0x7eec8bfa90>]"
      ]
     },
     "execution_count": 30,
     "metadata": {},
     "output_type": "execute_result"
    },
    {
     "data": {
      "image/png": "[encoded data removed]",
      "text/plain": [
       "<Figure size 1440x360 with 1 Axes>"
      ]
     },
     "metadata": {
      "needs_background": "light"
     },
     "output_type": "display_data"
    }
   ],
   "source": [
    "plt.figure(figsize=(20,5))\n",
    "plt.plot(blue_hist, 'b-')\n",
    "plt.plot(green_hist, 'g-')\n",
    "plt.plot(red_hist, 'r-')"
   ]
  },
  {
   "cell_type": "code",
   "execution_count": 13,
   "metadata": {},
   "outputs": [],
   "source": [
    "thread1 = threading.Thread(target=BLN_Onboard)\n",
    "# thread1.setDaemon(True)\n",
    "thread1.start()"
   ]
  },
  {
   "cell_type": "code",
   "execution_count": 6,
   "metadata": {},
   "outputs": [
    {
     "ename": "NameError",
     "evalue": "name 'stop_thread' is not defined",
     "output_type": "error",
     "traceback": [
      "\u001b[0;31m---------------------------------------------------------------------------\u001b[0m",
      "\u001b[0;31mNameError\u001b[0m                                 Traceback (most recent call last)",
      "\u001b[0;32m<ipython-input-6-ab57e357da0b>\u001b[0m in \u001b[0;36m<module>\u001b[0;34m\u001b[0m\n\u001b[0;32m----> 1\u001b[0;31m \u001b[0mstop_thread\u001b[0m\u001b[0;34m(\u001b[0m\u001b[0mthread1\u001b[0m\u001b[0;34m)\u001b[0m\u001b[0;34m\u001b[0m\u001b[0;34m\u001b[0m\u001b[0m\n\u001b[0m",
      "\u001b[0;31mNameError\u001b[0m: name 'stop_thread' is not defined"
     ]
    }
   ],
   "source": [
    "stop_thread(thread1)"
   ]
  },
  {
   "cell_type": "code",
   "execution_count": 14,
   "metadata": {},
   "outputs": [],
   "source": [
    "RGB.OFF_ALL_RGB()"
   ]
  },
  {
   "cell_type": "code",
   "execution_count": 14,
   "metadata": {},
   "outputs": [],
   "source": [
    "def jetbot_motion():\n",
    "    count1 = count2 = count3 = count4 =  count5 = 0\n",
    "    while 1:\n",
    "        \n",
    "        if controller.axes[1].value <= 0.1:\n",
    "            if (controller.axes[0].value <= 0.1 and controller.axes[0].value >= -0.1 \n",
    "                and controller.axes[1].value <= 0.1 and controller.axes[1].value >= -0.1):\n",
    "                robot.stop()\n",
    "            else:\n",
    "                robot.set_motors(-controller.axes[1].value + controller.axes[0].value, -controller.axes[1].value - controller.axes[0].value)\n",
    "            \n",
    "            time.sleep(0.01)\n",
    "        else:\n",
    "            robot.set_motors(-controller.axes[1].value - controller.axes[0].value, -controller.axes[1].value + controller.axes[0].value)\n",
    "            time.sleep(0.01)\n",
    "        if controller.axes[3].value == 1:\n",
    "            count1  += 1\n",
    "            if count1 >= 3:\n",
    "                camDownFunction()\n",
    "                count1 = 0\n",
    "        elif controller.axes[3].value == -1:\n",
    "            count1  += 1\n",
    "            if count1 >= 3:\n",
    "                camUpFunction()\n",
    "                count1 = 0\n",
    "        else:\n",
    "            count1 = 0\n",
    "        if controller.axes[2].value == 1:\n",
    "            count2  += 1\n",
    "            if count2 >= 3:\n",
    "                camRightFunction()\n",
    "                count2 = 0\n",
    "        elif controller.axes[2].value == -1:\n",
    "            count2  += 1\n",
    "            if count2 >= 3:\n",
    "                camLeftFunction()\n",
    "                count2 = 0\n",
    "        else:\n",
    "            count2 = 0\n",
    "        #Servo control camera up down, left and right is reset\n",
    "        if controller.buttons[8].value == True:\n",
    "            count3 += 1\n",
    "            if count3 >= 3:\n",
    "                camservoInitFunction()\n",
    "                count3 = 0\n",
    "        else:\n",
    "            count3 = 0\n",
    "        \n",
    "        #Servo control servo rise and decline\n",
    "        if controller.buttons[6].value == True:\n",
    "            count4 += 1\n",
    "            if count4 >= 3:\n",
    "                robot.set_vertical_motors(1)\n",
    "                count4 = 0\n",
    "        elif controller.buttons[4].value == True:\n",
    "            count4 += 1\n",
    "            if count4 >= 3:\n",
    "                robot.set_vertical_motors(-1)\n",
    "                count4 = 0\n",
    "        else:\n",
    "            robot.set_vertical_motors(0)\n",
    "            count4 = 0"
   ]
  },
  {
   "cell_type": "code",
   "execution_count": 15,
   "metadata": {},
   "outputs": [],
   "source": [
    "thread2 = threading.Thread(target=jetbot_motion)\n",
    "thread2.setDaemon(True)\n",
    "thread2.start()"
   ]
  },
  {
   "cell_type": "code",
   "execution_count": null,
   "metadata": {},
   "outputs": [],
   "source": [
    "stop_thread(thread1)"
   ]
  },
  {
   "cell_type": "code",
   "execution_count": null,
   "metadata": {},
   "outputs": [],
   "source": [
    "stop_thread(thread2)"
   ]
  },
  {
   "cell_type": "code",
   "execution_count": null,
   "metadata": {},
   "outputs": [],
   "source": [
    "RGB.OFF_ALL_RGB()"
   ]
  }
 ],
 "metadata": {
  "kernelspec": {
   "display_name": "Python 3",
   "language": "python",
   "name": "python3"
  },
  "language_info": {
   "codemirror_mode": {
    "name": "ipython",
    "version": 3
   },
   "file_extension": ".py",
   "mimetype": "text/x-python",
   "name": "python",
   "nbconvert_exporter": "python",
   "pygments_lexer": "ipython3",
   "version": "3.6.9"
  }
 },
 "nbformat": 4,
 "nbformat_minor": 4
}
