{
 "cells": [
  {
   "cell_type": "markdown",
   "metadata": {},
   "source": [
    "<center><img src=\"../Picture Data/logo.png\" alt=\"Header\" style=\"width: 800px;\"/></center>"
   ]
  },
  {
   "cell_type": "code",
   "execution_count": 1,
   "metadata": {},
   "outputs": [
    {
     "data": {
      "application/vnd.jupyter.widget-view+json": {
       "model_id": "1cce9579c12b40d098028ff17ad24226",
       "version_major": 2,
       "version_minor": 0
      },
      "text/plain": [
       "Controller()"
      ]
     },
     "metadata": {},
     "output_type": "display_data"
    }
   ],
   "source": [
    "import ipywidgets.widgets as widgets\n",
    "controller = widgets.Controller(index=0)  #Replace with the index number of the controller you just tested\n",
    "display(controller)"
   ]
  },
  {
   "cell_type": "markdown",
   "metadata": {},
   "source": [
    "Import some module"
   ]
  },
  {
   "cell_type": "code",
   "execution_count": 2,
   "metadata": {},
   "outputs": [],
   "source": [
    "#Import function library path\n",
    "from servoserial import ServoSerial\n",
    "from jetbot import Robot\n",
    "import traitlets\n",
    "from jetbot import Camera\n",
    "from jetbot import bgr8_to_jpeg\n",
    "from jetbot import Heartbeat\n",
    "import threading\n",
    "import time\n",
    "# Thread function operation library\n",
    "import inspect\n",
    "import ctypes\n",
    "\n",
    "import traitlets\n",
    "from IPython.display import display\n",
    "from jetbot import Camera, bgr8_to_jpeg\n",
    "import os\n",
    "from uuid import uuid1\n",
    "import cv2\n",
    "import numpy as np\n",
    "import PID\n",
    "from RGB_Lib import Programing_RGB\n",
    "RGB = Programing_RGB()"
   ]
  },
  {
   "cell_type": "code",
   "execution_count": 42,
   "metadata": {},
   "outputs": [],
   "source": [
    "global color_x, color_y, color_radius\n",
    "color_x = color_y = color_radius = 0\n",
    "global color_lower\n",
    "global color_upper"
   ]
  },
  {
   "cell_type": "markdown",
   "metadata": {},
   "source": [
    "Create and open a display camera initialization instance"
   ]
  },
  {
   "cell_type": "code",
   "execution_count": 4,
   "metadata": {},
   "outputs": [],
   "source": [
    "camera = Camera.instance(width=300, height=300)\n",
    "color_image = widgets.Image(format='jpeg', width=300, height=300)\n",
    "camera_link = traitlets.dlink((camera, 'value'), (color_image, 'value'), transform=bgr8_to_jpeg)"
   ]
  },
  {
   "cell_type": "markdown",
   "metadata": {},
   "source": [
    "Add heartbeat connection"
   ]
  },
  {
   "cell_type": "code",
   "execution_count": 5,
   "metadata": {},
   "outputs": [],
   "source": [
    "def handle_heartbeat_status(change):\n",
    "    if change['new'] == Heartbeat.Status.dead:\n",
    "        camera_link.unlink()\n",
    "        robot.stop()\n",
    "\n",
    "heartbeat = Heartbeat(period=0.5)\n",
    "# Append the callback function to the heartbeat state\n",
    "heartbeat.observe(handle_heartbeat_status, names='status')"
   ]
  },
  {
   "cell_type": "markdown",
   "metadata": {},
   "source": [
    "Create a method to actively stop the process"
   ]
  },
  {
   "cell_type": "code",
   "execution_count": 6,
   "metadata": {},
   "outputs": [],
   "source": [
    "def _async_raise(tid, exctype):\n",
    "    \"\"\"raises the exception, performs cleanup if needed\"\"\"\n",
    "    tid = ctypes.c_long(tid)\n",
    "    if not inspect.isclass(exctype):\n",
    "        exctype = type(exctype)\n",
    "    res = ctypes.pythonapi.PyThreadState_SetAsyncExc(tid, ctypes.py_object(exctype))\n",
    "    if res == 0:\n",
    "        raise ValueError(\"invalid thread id\")\n",
    "    elif res != 1:\n",
    "        # \"\"\"if it returns a number greater than one, you're in trouble,\n",
    "        # and you should call it again with exc=NULL to revert the effect\"\"\"\n",
    "        ctypes.pythonapi.PyThreadState_SetAsyncExc(tid, None)\n",
    "        \n",
    "def stop_thread(thread):\n",
    "    _async_raise(thread.ident, SystemExit)"
   ]
  },
  {
   "cell_type": "markdown",
   "metadata": {},
   "source": [
    "Method for creating up, down, left, and right movements of a PTZ camera separately"
   ]
  },
  {
   "cell_type": "code",
   "execution_count": 7,
   "metadata": {},
   "outputs": [
    {
     "name": "stdout",
     "output_type": "stream",
     "text": [
      "serial Open!\n"
     ]
    }
   ],
   "source": [
    "'''Servo Part'''\n",
    "servo_device = ServoSerial() \n",
    "def camUpFunction():\n",
    "    global updownpulse\n",
    "    updownpulse+=15\n",
    "    if updownpulse>4095:\n",
    "        updownpulse=4095\n",
    "    servo_device.Servo_serial_control(2, updownpulse)\n",
    "\n",
    "def camDownFunction():\n",
    "    global updownpulse\n",
    "    updownpulse-=15\n",
    "    if updownpulse<1300:\n",
    "        updownpulse=1300\n",
    "    servo_device.Servo_serial_control(2, updownpulse)\n",
    "\n",
    "def camLeftFunction():\n",
    "    global leftrightpulse\n",
    "    leftrightpulse+=15\n",
    "    if leftrightpulse>3600:\n",
    "        leftrightpulse=3600\n",
    "    servo_device.Servo_serial_control(1, leftrightpulse)\n",
    "\n",
    "def camRightFunction():\n",
    "    global leftrightpulse\n",
    "    leftrightpulse-=15\n",
    "    if leftrightpulse<600:\n",
    "        leftrightpulse=600\n",
    "    servo_device.Servo_serial_control(1, leftrightpulse)\n",
    "\n",
    "def camservoInitFunction():\n",
    "    SERVO_MID = 2180\n",
    "    global leftrightpulse, updownpulse\n",
    "    leftrightpulse = 2048\n",
    "    updownpulse = 2048\n",
    "    servo_device.Servo_serial_control(1, SERVO_MID)\n",
    "    time.sleep(0.1)\n",
    "    servo_device.Servo_serial_control(2, 2048)"
   ]
  },
  {
   "cell_type": "markdown",
   "metadata": {},
   "source": [
    "### Initialize the position of the PTZ camera\n",
    "Run the following cell code to initialize the PTZ project to the initial location"
   ]
  },
  {
   "cell_type": "code",
   "execution_count": 8,
   "metadata": {},
   "outputs": [
    {
     "name": "stdout",
     "output_type": "stream",
     "text": [
      "52\n",
      "b'\\xff\\xff\\x01\\x07\\x03*\\x08\\x84\\x00\\n4'\n",
      "183\n",
      "b'\\xff\\xff\\x02\\x07\\x03*\\x08\\x00\\x00\\n\\xb7'\n"
     ]
    }
   ],
   "source": [
    "camservoInitFunction()"
   ]
  },
  {
   "cell_type": "markdown",
   "metadata": {},
   "source": [
    "### Load the Robot class\n",
    "This class allows us to easily control the JetBot motor"
   ]
  },
  {
   "cell_type": "code",
   "execution_count": 9,
   "metadata": {},
   "outputs": [],
   "source": [
    "robot = Robot()"
   ]
  },
  {
   "cell_type": "markdown",
   "metadata": {},
   "source": [
    "### Create onboard breathing light method"
   ]
  },
  {
   "cell_type": "code",
   "execution_count": 37,
   "metadata": {},
   "outputs": [
    {
     "ename": "SyntaxError",
     "evalue": "invalid syntax (<ipython-input-37-f3904c5c9ca8>, line 18)",
     "output_type": "error",
     "traceback": [
      "\u001b[0;36m  File \u001b[0;32m\"<ipython-input-37-f3904c5c9ca8>\"\u001b[0;36m, line \u001b[0;32m18\u001b[0m\n\u001b[0;31m    if thread3.isAlive()\u001b[0m\n\u001b[0m                        ^\u001b[0m\n\u001b[0;31mSyntaxError\u001b[0m\u001b[0;31m:\u001b[0m invalid syntax\n"
     ]
    }
   ],
   "source": [
    "def BLN_Onboard():\n",
    "    global i , k\n",
    "    i = k = 0\n",
    "    while True:\n",
    "        if k == 0:\n",
    "            robot.set_bln(i)\n",
    "            i += 0.01\n",
    "            if( i >= 1 ):\n",
    "                k = 1\n",
    "            time.sleep(0.005)\n",
    "        elif k == 1:\n",
    "            robot.set_bln(i)\n",
    "            i -=0.01\n",
    "            if i <= 0 :\n",
    "                k = 0\n",
    "            time.sleep(0.005)\n",
    "        if controller.buttons[0] == 1:\n",
    "            if thread3.isAlive():\n",
    "                stop_thread(thread3)\n",
    "            if thread4.isAlive():\n",
    "                stop_thread(thread4)\n",
    "            if thread2.isAlive() == False:\n",
    "                thread2.start()\n",
    "        elif controller.buttons[1] == 1:\n",
    "            if thread4.isAlive():\n",
    "                stop_thread(thread4)\n",
    "            if thread3.isAlive() == False:\n",
    "                thread3.start()\n",
    "        elif controller.buttons[2] == 1:\n",
    "            if thread2.isAlive():\n",
    "                stop_thread(thread2)\n",
    "            if thread3.isAlive():\n",
    "                stop_thread(thread3)\n",
    "            if thread4.isAlive() == False:\n",
    "                thread4.start()"
   ]
  },
  {
   "cell_type": "markdown",
   "metadata": {},
   "source": [
    "Turn on the onboard breathing light independent process by running the cell code below"
   ]
  },
  {
   "cell_type": "code",
   "execution_count": 21,
   "metadata": {},
   "outputs": [],
   "source": [
    "thread1 = threading.Thread(target=BLN_Onboard)\n",
    "# thread1.setDaemon(True)\n",
    "thread1.start()"
   ]
  },
  {
   "cell_type": "markdown",
   "metadata": {},
   "source": [
    "### Create a handle to control the movement of Jetbot in real time\n",
    "### Please use the ANOLOG button in the middle of the handle to switch to the simulation mode before using.\n",
    "\n",
    "Program features:\n",
    "          1. Left rocker control Jetbot movement, right rocker control the servo movement\n",
    "          2. Press the SELECT button to reset the PTZ angle\n",
    "          3. Press the L side button No.1 to control the PTZ rise, press the L side button No.2 to control the gimbal decline.\n",
    "\n",
    "In the default code, the Yahboom handle is used by default. For other handles, please refer to the key table to change the value.\n",
    "     \n",
    "     If you are using Yahboom accessory, please use the code section ---1\n",
    "     If you are using the Xbox360's handle, please use the code section ---2"
   ]
  },
  {
   "cell_type": "code",
   "execution_count": 38,
   "metadata": {},
   "outputs": [],
   "source": [
    "def jetbot_motion():\n",
    "    count1 = count2 = count3 = count4 =  count5 = 0\n",
    "    while 1:\n",
    "        \n",
    "        if controller.axes[1].value <= 0.1:\n",
    "            if (controller.axes[0].value <= 0.1 and controller.axes[0].value >= -0.1 \n",
    "                and controller.axes[1].value <= 0.1 and controller.axes[1].value >= -0.1):\n",
    "                robot.stop()\n",
    "            else:\n",
    "                robot.set_motors(-controller.axes[1].value + controller.axes[0].value, -controller.axes[1].value - controller.axes[0].value)\n",
    "            \n",
    "            time.sleep(0.01)\n",
    "        else:\n",
    "            robot.set_motors(-controller.axes[1].value - controller.axes[0].value, -controller.axes[1].value + controller.axes[0].value)\n",
    "            time.sleep(0.01)\n",
    "        if controller.axes[3].value == 1:\n",
    "            count1  += 1\n",
    "            if count1 >= 3:\n",
    "                camDownFunction()\n",
    "                count1 = 0\n",
    "        elif controller.axes[3].value == -1:\n",
    "            count1  += 1\n",
    "            if count1 >= 3:\n",
    "                camUpFunction()\n",
    "                count1 = 0\n",
    "        else:\n",
    "            count1 = 0\n",
    "        if controller.axes[2].value == 1:\n",
    "            count2  += 1\n",
    "            if count2 >= 3:\n",
    "                camRightFunction()\n",
    "                count2 = 0\n",
    "        elif controller.axes[2].value == -1:\n",
    "            count2  += 1\n",
    "            if count2 >= 3:\n",
    "                camLeftFunction()\n",
    "                count2 = 0\n",
    "        else:\n",
    "            count2 = 0\n",
    "        #Servo control camera up down, left and right is reset\n",
    "        if controller.buttons[8].value == True:\n",
    "            count3 += 1\n",
    "            if count3 >= 3:\n",
    "                camservoInitFunction()\n",
    "                count3 = 0\n",
    "        else:\n",
    "            count3 = 0\n",
    "        \n",
    "        #Servo control servo rise and decline\n",
    "        if controller.buttons[6].value == True:\n",
    "            count4 += 1\n",
    "            if count4 >= 3:\n",
    "                robot.set_vertical_motors(1)\n",
    "                count4 = 0\n",
    "        elif controller.buttons[4].value == True:\n",
    "            count4 += 1\n",
    "            if count4 >= 3:\n",
    "                robot.set_vertical_motors(-1)\n",
    "                count4 = 0\n",
    "        else:\n",
    "            robot.set_vertical_motors(0)\n",
    "            count4 = 0\n",
    "            \n",
    "            \n",
    "            \n",
    "       "
   ]
  },
  {
   "cell_type": "code",
   "execution_count": 39,
   "metadata": {},
   "outputs": [],
   "source": [
    "def color_detect(): \n",
    "    color_lower=np.array([11,43,46])\n",
    "    color_upper = np.array([25, 255, 255])\n",
    "    target_valuex = 2100\n",
    "    target_valuey = 2048\n",
    "    servo_device.Servo_serial_double_control(1, 2180, 2, 2048)"
   ]
  },
  {
   "cell_type": "code",
   "execution_count": 40,
   "metadata": {},
   "outputs": [],
   "source": [
    "def auto_drive():\n",
    "    while 1:\n",
    "        frame = camera.value\n",
    "        frame = cv2.resize(frame, (300, 300))\n",
    "        frame_=cv2.GaussianBlur(frame,(5,5),0)                    \n",
    "        hsv=cv2.cvtColor(frame,cv2.COLOR_BGR2HSV)\n",
    "        mask=cv2.inRange(hsv,color_lower,color_upper)  \n",
    "        mask=cv2.erode(mask,None,iterations=2)\n",
    "        mask=cv2.dilate(mask,None,iterations=2)\n",
    "        mask=cv2.GaussianBlur(mask,(3,3),0)     \n",
    "        cnts=cv2.findContours(mask.copy(),cv2.RETR_EXTERNAL,cv2.CHAIN_APPROX_SIMPLE)[-2] \n",
    "        if len(cnts)>0:\n",
    "            cnt = max (cnts,key=cv2.contourArea)\n",
    "            (color_x,color_y),color_radius=cv2.minEnclosingCircle(cnt)\n",
    "        if color_radius > 10:\n",
    "            # Mark the detected color\n",
    "            cv2.circle(frame,(int(color_x),int(color_y)),int(color_radius),(255,0,255),2)  \n",
    "            #Proportion-Integration-Differentiation\n",
    "            xservo_pid.SystemOutput = color_x\n",
    "\n",
    "\n",
    "            target_x = 150\n",
    "            target_y = 150\n",
    "            speed = 0.8\n",
    "            turn = np.abs(target_x-color_x)/300\n",
    "            if color_x < target_x - 60:\n",
    "                robot.set_motors(speed-turn, speed)\n",
    "            elif color_x > target_x + 60:\n",
    "                robot.set_motors(speed, speed-turn)\n",
    "            elif color_radius>50:\n",
    "                robot.stop()\n",
    "            else:\n",
    "                robot.set_motors(speed, speed)\n",
    "    # Real-time return of image data for display\n",
    "        color_image.value = bgr8_to_jpeg(frame)"
   ]
  },
  {
   "cell_type": "markdown",
   "metadata": {},
   "source": [
    "Control the independent process of Jetbot motion in real time by running the cell code below to open the handle"
   ]
  },
  {
   "cell_type": "code",
   "execution_count": 47,
   "metadata": {},
   "outputs": [],
   "source": [
    "thread2 = threading.Thread(target=jetbot_motion)\n",
    "thread2.setDaemon(True)\n",
    "thread3 = threading.Thread(target=color_detect)\n",
    "thread3.setDaemon(True)\n",
    "thread4 = threading.Thread(target=auto_drive)\n",
    "thread4.setDaemon(True)"
   ]
  },
  {
   "cell_type": "code",
   "execution_count": 54,
   "metadata": {},
   "outputs": [
    {
     "ename": "RuntimeError",
     "evalue": "threads can only be started once",
     "output_type": "error",
     "traceback": [
      "\u001b[0;31m---------------------------------------------------------------------------\u001b[0m",
      "\u001b[0;31mRuntimeError\u001b[0m                              Traceback (most recent call last)",
      "\u001b[0;32m<ipython-input-54-8bd8a790151a>\u001b[0m in \u001b[0;36m<module>\u001b[0;34m\u001b[0m\n\u001b[0;32m----> 1\u001b[0;31m \u001b[0mthread3\u001b[0m\u001b[0;34m.\u001b[0m\u001b[0mstart\u001b[0m\u001b[0;34m(\u001b[0m\u001b[0;34m)\u001b[0m\u001b[0;34m\u001b[0m\u001b[0;34m\u001b[0m\u001b[0m\n\u001b[0m\u001b[1;32m      2\u001b[0m \u001b[0mthread4\u001b[0m\u001b[0;34m.\u001b[0m\u001b[0mstart\u001b[0m\u001b[0;34m(\u001b[0m\u001b[0;34m)\u001b[0m\u001b[0;34m\u001b[0m\u001b[0;34m\u001b[0m\u001b[0m\n",
      "\u001b[0;32m/usr/lib/python3.6/threading.py\u001b[0m in \u001b[0;36mstart\u001b[0;34m(self)\u001b[0m\n\u001b[1;32m    840\u001b[0m \u001b[0;34m\u001b[0m\u001b[0m\n\u001b[1;32m    841\u001b[0m         \u001b[0;32mif\u001b[0m \u001b[0mself\u001b[0m\u001b[0;34m.\u001b[0m\u001b[0m_started\u001b[0m\u001b[0;34m.\u001b[0m\u001b[0mis_set\u001b[0m\u001b[0;34m(\u001b[0m\u001b[0;34m)\u001b[0m\u001b[0;34m:\u001b[0m\u001b[0;34m\u001b[0m\u001b[0;34m\u001b[0m\u001b[0m\n\u001b[0;32m--> 842\u001b[0;31m             \u001b[0;32mraise\u001b[0m \u001b[0mRuntimeError\u001b[0m\u001b[0;34m(\u001b[0m\u001b[0;34m\"threads can only be started once\"\u001b[0m\u001b[0;34m)\u001b[0m\u001b[0;34m\u001b[0m\u001b[0;34m\u001b[0m\u001b[0m\n\u001b[0m\u001b[1;32m    843\u001b[0m         \u001b[0;32mwith\u001b[0m \u001b[0m_active_limbo_lock\u001b[0m\u001b[0;34m:\u001b[0m\u001b[0;34m\u001b[0m\u001b[0;34m\u001b[0m\u001b[0m\n\u001b[1;32m    844\u001b[0m             \u001b[0m_limbo\u001b[0m\u001b[0;34m[\u001b[0m\u001b[0mself\u001b[0m\u001b[0;34m]\u001b[0m \u001b[0;34m=\u001b[0m \u001b[0mself\u001b[0m\u001b[0;34m\u001b[0m\u001b[0;34m\u001b[0m\u001b[0m\n",
      "\u001b[0;31mRuntimeError\u001b[0m: threads can only be started once"
     ]
    }
   ],
   "source": [
    "thread3.start()\n",
    "thread4.start()"
   ]
  },
  {
   "cell_type": "code",
   "execution_count": 52,
   "metadata": {},
   "outputs": [
    {
     "data": {
      "text/plain": [
       "False"
      ]
     },
     "execution_count": 52,
     "metadata": {},
     "output_type": "execute_result"
    }
   ],
   "source": [
    "thread3.isAlive()"
   ]
  },
  {
   "cell_type": "code",
   "execution_count": null,
   "metadata": {},
   "outputs": [],
   "source": [
    "thread3 = threading.Thread(target=jetbot_color)\n",
    "thread3.setDaemon(True)\n",
    "thread3.start()"
   ]
  },
  {
   "cell_type": "markdown",
   "metadata": {},
   "source": [
    "Ending onboard breathing RGB process"
   ]
  },
  {
   "cell_type": "code",
   "execution_count": 53,
   "metadata": {},
   "outputs": [
    {
     "ename": "ValueError",
     "evalue": "invalid thread id",
     "output_type": "error",
     "traceback": [
      "\u001b[0;31m---------------------------------------------------------------------------\u001b[0m",
      "\u001b[0;31mValueError\u001b[0m                                Traceback (most recent call last)",
      "\u001b[0;32m<ipython-input-53-b82d9d9497b5>\u001b[0m in \u001b[0;36m<module>\u001b[0;34m\u001b[0m\n\u001b[0;32m----> 1\u001b[0;31m \u001b[0mstop_thread\u001b[0m\u001b[0;34m(\u001b[0m\u001b[0mthread3\u001b[0m\u001b[0;34m)\u001b[0m\u001b[0;34m\u001b[0m\u001b[0;34m\u001b[0m\u001b[0m\n\u001b[0m",
      "\u001b[0;32m<ipython-input-6-4b0a6a6c9a02>\u001b[0m in \u001b[0;36mstop_thread\u001b[0;34m(thread)\u001b[0m\n\u001b[1;32m     13\u001b[0m \u001b[0;34m\u001b[0m\u001b[0m\n\u001b[1;32m     14\u001b[0m \u001b[0;32mdef\u001b[0m \u001b[0mstop_thread\u001b[0m\u001b[0;34m(\u001b[0m\u001b[0mthread\u001b[0m\u001b[0;34m)\u001b[0m\u001b[0;34m:\u001b[0m\u001b[0;34m\u001b[0m\u001b[0;34m\u001b[0m\u001b[0m\n\u001b[0;32m---> 15\u001b[0;31m     \u001b[0m_async_raise\u001b[0m\u001b[0;34m(\u001b[0m\u001b[0mthread\u001b[0m\u001b[0;34m.\u001b[0m\u001b[0mident\u001b[0m\u001b[0;34m,\u001b[0m \u001b[0mSystemExit\u001b[0m\u001b[0;34m)\u001b[0m\u001b[0;34m\u001b[0m\u001b[0;34m\u001b[0m\u001b[0m\n\u001b[0m",
      "\u001b[0;32m<ipython-input-6-4b0a6a6c9a02>\u001b[0m in \u001b[0;36m_async_raise\u001b[0;34m(tid, exctype)\u001b[0m\n\u001b[1;32m      6\u001b[0m     \u001b[0mres\u001b[0m \u001b[0;34m=\u001b[0m \u001b[0mctypes\u001b[0m\u001b[0;34m.\u001b[0m\u001b[0mpythonapi\u001b[0m\u001b[0;34m.\u001b[0m\u001b[0mPyThreadState_SetAsyncExc\u001b[0m\u001b[0;34m(\u001b[0m\u001b[0mtid\u001b[0m\u001b[0;34m,\u001b[0m \u001b[0mctypes\u001b[0m\u001b[0;34m.\u001b[0m\u001b[0mpy_object\u001b[0m\u001b[0;34m(\u001b[0m\u001b[0mexctype\u001b[0m\u001b[0;34m)\u001b[0m\u001b[0;34m)\u001b[0m\u001b[0;34m\u001b[0m\u001b[0;34m\u001b[0m\u001b[0m\n\u001b[1;32m      7\u001b[0m     \u001b[0;32mif\u001b[0m \u001b[0mres\u001b[0m \u001b[0;34m==\u001b[0m \u001b[0;36m0\u001b[0m\u001b[0;34m:\u001b[0m\u001b[0;34m\u001b[0m\u001b[0;34m\u001b[0m\u001b[0m\n\u001b[0;32m----> 8\u001b[0;31m         \u001b[0;32mraise\u001b[0m \u001b[0mValueError\u001b[0m\u001b[0;34m(\u001b[0m\u001b[0;34m\"invalid thread id\"\u001b[0m\u001b[0;34m)\u001b[0m\u001b[0;34m\u001b[0m\u001b[0;34m\u001b[0m\u001b[0m\n\u001b[0m\u001b[1;32m      9\u001b[0m     \u001b[0;32melif\u001b[0m \u001b[0mres\u001b[0m \u001b[0;34m!=\u001b[0m \u001b[0;36m1\u001b[0m\u001b[0;34m:\u001b[0m\u001b[0;34m\u001b[0m\u001b[0;34m\u001b[0m\u001b[0m\n\u001b[1;32m     10\u001b[0m         \u001b[0;31m# \"\"\"if it returns a number greater than one, you're in trouble,\u001b[0m\u001b[0;34m\u001b[0m\u001b[0;34m\u001b[0m\u001b[0;34m\u001b[0m\u001b[0m\n",
      "\u001b[0;31mValueError\u001b[0m: invalid thread id"
     ]
    }
   ],
   "source": [
    "stop_thread(thread3)"
   ]
  },
  {
   "cell_type": "markdown",
   "metadata": {},
   "source": [
    "Ending Jetbot movement process"
   ]
  },
  {
   "cell_type": "code",
   "execution_count": null,
   "metadata": {},
   "outputs": [],
   "source": [
    "stop_thread(thread2)\n",
    "robot.stop()"
   ]
  },
  {
   "cell_type": "code",
   "execution_count": null,
   "metadata": {},
   "outputs": [],
   "source": [
    "camera.stop()"
   ]
  },
  {
   "cell_type": "code",
   "execution_count": null,
   "metadata": {},
   "outputs": [],
   "source": []
  },
  {
   "cell_type": "code",
   "execution_count": null,
   "metadata": {},
   "outputs": [],
   "source": []
  },
  {
   "cell_type": "code",
   "execution_count": null,
   "metadata": {},
   "outputs": [],
   "source": []
  },
  {
   "cell_type": "code",
   "execution_count": null,
   "metadata": {},
   "outputs": [],
   "source": []
  },
  {
   "cell_type": "code",
   "execution_count": null,
   "metadata": {},
   "outputs": [],
   "source": []
  },
  {
   "cell_type": "code",
   "execution_count": null,
   "metadata": {},
   "outputs": [],
   "source": []
  },
  {
   "cell_type": "code",
   "execution_count": null,
   "metadata": {},
   "outputs": [],
   "source": []
  },
  {
   "cell_type": "code",
   "execution_count": null,
   "metadata": {},
   "outputs": [],
   "source": []
  },
  {
   "cell_type": "code",
   "execution_count": null,
   "metadata": {},
   "outputs": [],
   "source": []
  },
  {
   "cell_type": "code",
   "execution_count": null,
   "metadata": {},
   "outputs": [],
   "source": []
  },
  {
   "cell_type": "code",
   "execution_count": null,
   "metadata": {},
   "outputs": [],
   "source": []
  },
  {
   "cell_type": "code",
   "execution_count": null,
   "metadata": {},
   "outputs": [],
   "source": []
  },
  {
   "cell_type": "code",
   "execution_count": null,
   "metadata": {},
   "outputs": [],
   "source": []
  },
  {
   "cell_type": "code",
   "execution_count": null,
   "metadata": {},
   "outputs": [],
   "source": []
  },
  {
   "cell_type": "code",
   "execution_count": null,
   "metadata": {},
   "outputs": [],
   "source": []
  },
  {
   "cell_type": "code",
   "execution_count": null,
   "metadata": {},
   "outputs": [],
   "source": []
  },
  {
   "cell_type": "code",
   "execution_count": null,
   "metadata": {},
   "outputs": [],
   "source": []
  },
  {
   "cell_type": "code",
   "execution_count": null,
   "metadata": {},
   "outputs": [],
   "source": []
  },
  {
   "cell_type": "code",
   "execution_count": null,
   "metadata": {},
   "outputs": [],
   "source": []
  },
  {
   "cell_type": "code",
   "execution_count": null,
   "metadata": {},
   "outputs": [],
   "source": []
  },
  {
   "cell_type": "code",
   "execution_count": null,
   "metadata": {},
   "outputs": [],
   "source": []
  },
  {
   "cell_type": "code",
   "execution_count": null,
   "metadata": {},
   "outputs": [],
   "source": []
  },
  {
   "cell_type": "code",
   "execution_count": null,
   "metadata": {},
   "outputs": [],
   "source": []
  },
  {
   "cell_type": "code",
   "execution_count": null,
   "metadata": {},
   "outputs": [],
   "source": []
  },
  {
   "cell_type": "code",
   "execution_count": null,
   "metadata": {},
   "outputs": [],
   "source": []
  }
 ],
 "metadata": {
  "kernelspec": {
   "display_name": "Python 3",
   "language": "python",
   "name": "python3"
  },
  "language_info": {
   "codemirror_mode": {
    "name": "ipython",
    "version": 3
   },
   "file_extension": ".py",
   "mimetype": "text/x-python",
   "name": "python",
   "nbconvert_exporter": "python",
   "pygments_lexer": "ipython3",
   "version": "3.6.9"
  }
 },
 "nbformat": 4,
 "nbformat_minor": 4
}
