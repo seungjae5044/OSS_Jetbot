{
 "cells": [
  {
   "cell_type": "markdown",
   "metadata": {},
   "source": [
    "<center><img src=\"../Picture Data/logo.png\" alt=\"Header\" style=\"width: 800px;\"/></center>"
   ]
  },
  {
   "cell_type": "code",
   "execution_count": 1,
   "metadata": {},
   "outputs": [
    {
     "data": {
      "application/vnd.jupyter.widget-view+json": {
       "model_id": "7a66604634fe44cba77d906f127e012c",
       "version_major": 2,
       "version_minor": 0
      },
      "text/plain": [
       "Controller()"
      ]
     },
     "metadata": {},
     "output_type": "display_data"
    }
   ],
   "source": [
    "import ipywidgets.widgets as widgets\n",
    "controller = widgets.Controller(index=0)  #Replace with the index number of the controller you just tested\n",
    "display(controller)"
   ]
  },
  {
   "cell_type": "markdown",
   "metadata": {},
   "source": [
    "Import some module"
   ]
  },
  {
   "cell_type": "code",
   "execution_count": 2,
   "metadata": {},
   "outputs": [],
   "source": [
    "#Import function library path\n",
    "from servoserial import ServoSerial\n",
    "from jetbot import Robot\n",
    "import traitlets\n",
    "from jetbot import Camera\n",
    "from jetbot import bgr8_to_jpeg\n",
    "from jetbot import Heartbeat\n",
    "import threading\n",
    "import time\n",
    "# Thread function operation library\n",
    "import inspect\n",
    "import ctypes\n",
    "\n",
    "import traitlets\n",
    "from IPython.display import display\n",
    "from jetbot import Camera, bgr8_to_jpeg\n",
    "import os\n",
    "from uuid import uuid1\n",
    "import cv2\n",
    "import numpy as np\n",
    "import PID\n",
    "from RGB_Lib import Programing_RGB\n",
    "RGB = Programing_RGB()"
   ]
  },
  {
   "cell_type": "code",
   "execution_count": 3,
   "metadata": {},
   "outputs": [],
   "source": [
    "global color_x, color_y, color_radius\n",
    "color_x = color_y = color_radius = 0\n",
    "global color_lower\n",
    "global color_upper"
   ]
  },
  {
   "cell_type": "markdown",
   "metadata": {},
   "source": [
    "Create and open a display camera initialization instance"
   ]
  },
  {
   "cell_type": "code",
   "execution_count": 4,
   "metadata": {},
   "outputs": [],
   "source": [
    "camera = Camera.instance(width=300, height=300)\n",
    "color_image = widgets.Image(format='jpeg', width=300, height=300)\n",
    "camera_link = traitlets.dlink((camera, 'value'), (color_image, 'value'), transform=bgr8_to_jpeg)"
   ]
  },
  {
   "cell_type": "markdown",
   "metadata": {},
   "source": [
    "Add heartbeat connection"
   ]
  },
  {
   "cell_type": "code",
   "execution_count": 5,
   "metadata": {},
   "outputs": [
    {
     "name": "stderr",
     "output_type": "stream",
     "text": [
      "Exception in thread Thread-5:\n",
      "Traceback (most recent call last):\n",
      "  File \"/usr/lib/python3.6/threading.py\", line 916, in _bootstrap_inner\n",
      "    self.run()\n",
      "  File \"/usr/lib/python3.6/threading.py\", line 864, in run\n",
      "    self._target(*self._args, **self._kwargs)\n",
      "  File \"/usr/local/lib/python3.6/dist-packages/jetbot-0.3.0-py3.6.egg/jetbot/heartbeat.py\", line 35, in _run\n",
      "    self.status = Heartbeat.Status.dead\n",
      "  File \"/usr/local/lib/python3.6/dist-packages/traitlets/traitlets.py\", line 588, in __set__\n",
      "    self.set(obj, value)\n",
      "  File \"/usr/local/lib/python3.6/dist-packages/traitlets/traitlets.py\", line 577, in set\n",
      "    obj._notify_trait(self.name, old_value, new_value)\n",
      "  File \"/usr/local/lib/python3.6/dist-packages/traitlets/traitlets.py\", line 1210, in _notify_trait\n",
      "    type='change',\n",
      "  File \"/usr/local/lib/python3.6/dist-packages/traitlets/traitlets.py\", line 1215, in notify_change\n",
      "    return self._notify_observers(change)\n",
      "  File \"/usr/local/lib/python3.6/dist-packages/traitlets/traitlets.py\", line 1252, in _notify_observers\n",
      "    c(event)\n",
      "  File \"<ipython-input-5-22554b0aba61>\", line 4, in handle_heartbeat_status\n",
      "    robot.stop()\n",
      "NameError: name 'robot' is not defined\n",
      "\n"
     ]
    }
   ],
   "source": [
    "def handle_heartbeat_status(change):\n",
    "    if change['new'] == Heartbeat.Status.dead:\n",
    "        camera_link.unlink()\n",
    "        robot.stop()\n",
    "\n",
    "heartbeat = Heartbeat(period=0.5)\n",
    "# Append the callback function to the heartbeat state\n",
    "heartbeat.observe(handle_heartbeat_status, names='status')"
   ]
  },
  {
   "cell_type": "markdown",
   "metadata": {},
   "source": [
    "Create a method to actively stop the process"
   ]
  },
  {
   "cell_type": "code",
   "execution_count": 6,
   "metadata": {},
   "outputs": [],
   "source": [
    "def _async_raise(tid, exctype):\n",
    "    \"\"\"raises the exception, performs cleanup if needed\"\"\"\n",
    "    tid = ctypes.c_long(tid)\n",
    "    if not inspect.isclass(exctype):\n",
    "        exctype = type(exctype)\n",
    "    res = ctypes.pythonapi.PyThreadState_SetAsyncExc(tid, ctypes.py_object(exctype))\n",
    "    if res == 0:\n",
    "        raise ValueError(\"invalid thread id\")\n",
    "    elif res != 1:\n",
    "        # \"\"\"if it returns a number greater than one, you're in trouble,\n",
    "        # and you should call it again with exc=NULL to revert the effect\"\"\"\n",
    "        ctypes.pythonapi.PyThreadState_SetAsyncExc(tid, None)\n",
    "        \n",
    "def stop_thread(thread):\n",
    "    _async_raise(thread.ident, SystemExit)"
   ]
  },
  {
   "cell_type": "markdown",
   "metadata": {},
   "source": [
    "Method for creating up, down, left, and right movements of a PTZ camera separately"
   ]
  },
  {
   "cell_type": "code",
   "execution_count": 7,
   "metadata": {},
   "outputs": [
    {
     "name": "stdout",
     "output_type": "stream",
     "text": [
      "serial Open!\n"
     ]
    }
   ],
   "source": [
    "'''Servo Part'''\n",
    "servo_device = ServoSerial() \n",
    "def camUpFunction():\n",
    "    global updownpulse\n",
    "    updownpulse+=15\n",
    "    if updownpulse>4095:\n",
    "        updownpulse=4095\n",
    "    servo_device.Servo_serial_control(2, updownpulse)\n",
    "\n",
    "def camDownFunction():\n",
    "    global updownpulse\n",
    "    updownpulse-=15\n",
    "    if updownpulse<1300:\n",
    "        updownpulse=1300\n",
    "    servo_device.Servo_serial_control(2, updownpulse)\n",
    "\n",
    "def camLeftFunction():\n",
    "    global leftrightpulse\n",
    "    leftrightpulse+=15\n",
    "    if leftrightpulse>3600:\n",
    "        leftrightpulse=3600\n",
    "    servo_device.Servo_serial_control(1, leftrightpulse)\n",
    "\n",
    "def camRightFunction():\n",
    "    global leftrightpulse\n",
    "    leftrightpulse-=15\n",
    "    if leftrightpulse<600:\n",
    "        leftrightpulse=600\n",
    "    servo_device.Servo_serial_control(1, leftrightpulse)\n",
    "\n",
    "def camservoInitFunction():\n",
    "    SERVO_MID = 2180\n",
    "    global leftrightpulse, updownpulse\n",
    "    leftrightpulse = 2048\n",
    "    updownpulse = 2048\n",
    "    servo_device.Servo_serial_control(1, SERVO_MID)\n",
    "    time.sleep(0.1)\n",
    "    servo_device.Servo_serial_control(2, 2048)"
   ]
  },
  {
   "cell_type": "markdown",
   "metadata": {},
   "source": [
    "### Load the Robot class\n",
    "This class allows us to easily control the JetBot motor"
   ]
  },
  {
   "cell_type": "code",
   "execution_count": 8,
   "metadata": {},
   "outputs": [],
   "source": [
    "robot = Robot()"
   ]
  },
  {
   "cell_type": "code",
   "execution_count": 27,
   "metadata": {},
   "outputs": [],
   "source": [
    "def BLN_Onboard():\n",
    "    count4 = 0\n",
    "    thread2 = threading.Thread(target=jetbot_motion)\n",
    "    thread2.setDaemon(True)\n",
    "    thread3 = threading.Thread(target=color_detect)\n",
    "    thread3.setDaemon(True)\n",
    "    thread4 = threading.Thread(target=auto_drive)\n",
    "    thread4.setDaemon(True)\n",
    "    global i , k\n",
    "    i = k = 0\n",
    "    while True:\n",
    "        if k == 0:\n",
    "            robot.set_bln(i)\n",
    "            i += 0.01\n",
    "            if( i >= 1 ):\n",
    "                k = 1\n",
    "            time.sleep(0.005)\n",
    "        elif k == 1:\n",
    "            robot.set_bln(i)\n",
    "            i -=0.01\n",
    "            if i <= 0 :\n",
    "                k = 0\n",
    "            time.sleep(0.005)\n",
    "        if controller.buttons[0].value == True:\n",
    "            count4 += 1\n",
    "            if count4 >= 3:\n",
    "                if thread2.isAlive() == False:\n",
    "                    thread2 = threading.Thread(target=jetbot_motion)\n",
    "                    thread2.start()\n",
    "                if thread3.isAlive():\n",
    "                    stop_thread(thread3)\n",
    "                if thread4.isAlive():\n",
    "                    stop_thread(thread4)\n",
    "                    robot.stop()\n",
    "                count4 = 0\n",
    "                \n",
    "        elif controller.buttons[1].value == True:\n",
    "            count4 += 1\n",
    "            if count4 >= 3:\n",
    "                if thread3.isAlive() == False:\n",
    "                    thread3 = threading.Thread(target=color_detect)\n",
    "                    thread3.start()\n",
    "                if thread4.isAlive():\n",
    "                    stop_thread(thread4)\n",
    "                    robot.stop()\n",
    "                count4 = 0\n",
    "                \n",
    "        elif controller.buttons[2].value == True:\n",
    "            count4 += 1\n",
    "            if count4 >= 3:\n",
    "                if thread2.isAlive():\n",
    "                    stop_thread(thread2)\n",
    "                if thread3.isAlive() == False:\n",
    "                    stop_thread(thread4)\n",
    "                    robot.stop()       \n",
    "                if thread4.isAlive():\n",
    "                    thread4 = threading.Thread(target=auto_drive)\n",
    "                    thread4.start()\n",
    "                count4 = 0\n",
    "                \n",
    "        elif controller.buttons[3].value == True:\n",
    "            count4 += 1\n",
    "            if count4 >= 3:\n",
    "                if thread2.isAlive():\n",
    "                    stop_thread(thread2)\n",
    "                if thread3.isAlive():\n",
    "                    stop_thread(thread3)\n",
    "                if thread4.isAlive():\n",
    "                    stop_thread(thread4)\n",
    "                robot.stop()\n",
    "                count4 = 0\n",
    "        else:\n",
    "            count4 = 0"
   ]
  },
  {
   "cell_type": "markdown",
   "metadata": {},
   "source": [
    "Turn on the onboard breathing light independent process by running the cell code below"
   ]
  },
  {
   "cell_type": "code",
   "execution_count": 28,
   "metadata": {},
   "outputs": [],
   "source": [
    "thread1 = threading.Thread(target=BLN_Onboard)\n",
    "thread1.start()"
   ]
  },
  {
   "cell_type": "code",
   "execution_count": 25,
   "metadata": {},
   "outputs": [],
   "source": [
    "stop_thread(thread1)"
   ]
  },
  {
   "cell_type": "code",
   "execution_count": 32,
   "metadata": {},
   "outputs": [
    {
     "data": {
      "application/vnd.jupyter.widget-view+json": {
       "model_id": "9bef12d3128946bb8a90c2491db4b220",
       "version_major": 2,
       "version_minor": 0
      },
      "text/plain": [
       "Image(value=b'\\xff\\xd8\\xff\\xe0\\x00\\x10JFIF\\x00\\x01\\x01\\x00\\x00\\x01\\x00\\x01\\x00\\x00\\xff\\xdb\\x00C\\x00\\x02\\x01\\x0…"
      ]
     },
     "metadata": {},
     "output_type": "display_data"
    }
   ],
   "source": [
    "display(color_image)"
   ]
  },
  {
   "cell_type": "code",
   "execution_count": 10,
   "metadata": {},
   "outputs": [],
   "source": [
    "def jetbot_motion():\n",
    "    count1 = count2 = count3 = count4 =  count5 = 0\n",
    "    while 1:\n",
    "        \n",
    "        if controller.axes[1].value <= 0.1:\n",
    "            if (controller.axes[0].value <= 0.1 and controller.axes[0].value >= -0.1 \n",
    "                and controller.axes[1].value <= 0.1 and controller.axes[1].value >= -0.1):\n",
    "                robot.stop()\n",
    "            else:\n",
    "                robot.set_motors(-controller.axes[1].value + controller.axes[0].value, -controller.axes[1].value - controller.axes[0].value)\n",
    "            \n",
    "            time.sleep(0.01)\n",
    "        else:\n",
    "            robot.set_motors(-controller.axes[1].value - controller.axes[0].value, -controller.axes[1].value + controller.axes[0].value)\n",
    "            time.sleep(0.01)\n",
    "            \n",
    "        if controller.axes[3].value == 1:\n",
    "            count1  += 1\n",
    "            if count1 >= 3:\n",
    "                camDownFunction()\n",
    "                count1 = 0\n",
    "        elif controller.axes[3].value == -1:\n",
    "            count1  += 1\n",
    "            if count1 >= 3:\n",
    "                camUpFunction()\n",
    "                count1 = 0\n",
    "        else:\n",
    "            count1 = 0\n",
    "        if controller.axes[2].value == 1:\n",
    "            count2  += 1\n",
    "            if count2 >= 3:\n",
    "                camRightFunction()\n",
    "                count2 = 0\n",
    "        elif controller.axes[2].value == -1:\n",
    "            count2  += 1\n",
    "            if count2 >= 3:\n",
    "                camLeftFunction()\n",
    "                count2 = 0\n",
    "        else:\n",
    "            count2 = 0\n",
    "        #Servo control camera up down, left and right is reset\n",
    "        if controller.buttons[8].value == True:\n",
    "            count3 += 1\n",
    "            if count3 >= 3:\n",
    "                camservoInitFunction()\n",
    "                count3 = 0\n",
    "        else:\n",
    "            count3 = 0\n",
    "        \n",
    "        #Servo control servo rise and decline\n",
    "        if controller.buttons[6].value == True:\n",
    "            print()\n",
    "            count4 += 1\n",
    "            if count4 >= 3:\n",
    "                robot.set_vertical_motors(1)\n",
    "                count4 = 0\n",
    "        elif controller.buttons[4].value == True:\n",
    "            count4 += 1\n",
    "            if count4 >= 3:\n",
    "                robot.set_vertical_motors(-1)\n",
    "                count4 = 0\n",
    "        else:\n",
    "            robot.set_vertical_motors(0)\n",
    "            count4 = 0"
   ]
  },
  {
   "cell_type": "code",
   "execution_count": 11,
   "metadata": {},
   "outputs": [],
   "source": [
    "def kmeans(X, k, max_iters=50):\n",
    "    # 데이터 포인트의 수와 특성의 수 확인\n",
    "    m, n = X.shape\n",
    "\n",
    "    # 초기 중심 선택\n",
    "    centroids = X[np.random.choice(m, k, replace=False)]\n",
    "\n",
    "    for _ in range(max_iters):\n",
    "       \n",
    "        distances = np.linalg.norm(X[:, np.newaxis] - centroids, axis=2)\n",
    "        labels = np.argmin(distances, axis=1)\n",
    "\n",
    "        # 중심 재계산\n",
    "        new_centroids = np.array([X[labels == j].mean(axis=0) for j in range(k)])\n",
    "\n",
    "        # 수렴 여부 확인\n",
    "        if np.all(centroids == new_centroids):\n",
    "            break\n",
    "\n",
    "        centroids = new_centroids\n",
    "\n",
    "    return centroids, labels"
   ]
  },
  {
   "cell_type": "code",
   "execution_count": 16,
   "metadata": {},
   "outputs": [],
   "source": [
    "def color_detect(): \n",
    "    RGB.OFF_ALL_RGB()\n",
    "    frame = camera.value\n",
    "    frame_c = frame.reshape(-1,3)\n",
    "    data = frame_c\n",
    "    k = 5\n",
    "    centroids, labels = kmeans(data, k)\n",
    "\n",
    "    labels, counts = np.unique(labels, return_counts=True)\n",
    "    cen = labels[counts.argmax()]\n",
    "    mask_color = centroids[cen].astype(int)\n",
    "    \n",
    "    mask_hsv = cv2.cvtColor(np.uint8([[mask_color]]),cv2.COLOR_BGR2HSV)\n",
    "    mask_hsv = mask_hsv[0][0]\n",
    "    color_lower = np.array([max(mask_hsv[0]-20,0),max(mask_hsv[1]-50,0),max(mask_hsv[2]-60,0)])\n",
    "    color_upper = np.array([min(mask_hsv[0]+20,255),min(mask_hsv[1]+50,255),min(mask_hsv[2]+60,255)])\n",
    "    RGB.Set_All_RGB(255,255,255)\n",
    "    "
   ]
  },
  {
   "cell_type": "code",
   "execution_count": 21,
   "metadata": {},
   "outputs": [],
   "source": [
    "def auto_drive():\n",
    "    RGB.Set_All_RGB(0,255,0)\n",
    "    while 1:\n",
    "        frame = camera.value\n",
    "        frame = cv2.resize(frame, (300, 300))\n",
    "        frame_=cv2.GaussianBlur(frame,(5,5),0)                    \n",
    "        hsv=cv2.cvtColor(frame,cv2.COLOR_BGR2HSV)\n",
    "        mask=cv2.inRange(hsv,color_lower,color_upper)  \n",
    "        mask=cv2.erode(mask,None,iterations=2)\n",
    "        mask=cv2.dilate(mask,None,iterations=2)\n",
    "        mask=cv2.GaussianBlur(mask,(3,3),0)     \n",
    "        cnts=cv2.findContours(mask.copy(),cv2.RETR_EXTERNAL,cv2.CHAIN_APPROX_SIMPLE)[-2] \n",
    "        if len(cnts)>0:\n",
    "            cnt = max (cnts,key=cv2.contourArea)\n",
    "            (color_x,color_y),color_radius=cv2.minEnclosingCircle(cnt)\n",
    "        if color_radius > 10:\n",
    "            # Mark the detected color\n",
    "            cv2.circle(frame,(int(color_x),int(color_y)),int(color_radius),(255,0,255),2)  \n",
    "            #Proportion-Integration-Differentiation\n",
    "            xservo_pid.SystemOutput = color_x\n",
    "\n",
    "\n",
    "            target_x = 150\n",
    "            target_y = 150\n",
    "            speed = 0.8\n",
    "            turn = np.abs(target_x-color_x)/300\n",
    "            if color_x < target_x - 60:\n",
    "                robot.set_motors(speed-turn, speed)\n",
    "            elif color_x > target_x + 60:\n",
    "                robot.set_motors(speed, speed-turn)\n",
    "            elif color_radius>50:\n",
    "                robot.stop()\n",
    "            else:\n",
    "                robot.set_motors(speed, speed)\n",
    "    # Real-time return of image data for display\"\"\"\n",
    "        color_image.value = bgr8_to_jpeg(frame)"
   ]
  },
  {
   "cell_type": "markdown",
   "metadata": {},
   "source": [
    "Control the independent process of Jetbot motion in real time by running the cell code below to open the handle"
   ]
  },
  {
   "cell_type": "code",
   "execution_count": 57,
   "metadata": {},
   "outputs": [],
   "source": [
    "thread2.start()"
   ]
  },
  {
   "cell_type": "code",
   "execution_count": 39,
   "metadata": {},
   "outputs": [
    {
     "data": {
      "text/plain": [
       "False"
      ]
     },
     "execution_count": 39,
     "metadata": {},
     "output_type": "execute_result"
    }
   ],
   "source": [
    "thread2.isAlive()"
   ]
  },
  {
   "cell_type": "code",
   "execution_count": 40,
   "metadata": {},
   "outputs": [
    {
     "data": {
      "text/plain": [
       "False"
      ]
     },
     "execution_count": 40,
     "metadata": {},
     "output_type": "execute_result"
    }
   ],
   "source": [
    "thread3.isAlive()"
   ]
  },
  {
   "cell_type": "code",
   "execution_count": 41,
   "metadata": {},
   "outputs": [
    {
     "ename": "NameError",
     "evalue": "name 'jetbot_color' is not defined",
     "output_type": "error",
     "traceback": [
      "\u001b[0;31m---------------------------------------------------------------------------\u001b[0m",
      "\u001b[0;31mNameError\u001b[0m                                 Traceback (most recent call last)",
      "\u001b[0;32m<ipython-input-41-3abc97c55897>\u001b[0m in \u001b[0;36m<module>\u001b[0;34m\u001b[0m\n\u001b[0;32m----> 1\u001b[0;31m \u001b[0mthread3\u001b[0m \u001b[0;34m=\u001b[0m \u001b[0mthreading\u001b[0m\u001b[0;34m.\u001b[0m\u001b[0mThread\u001b[0m\u001b[0;34m(\u001b[0m\u001b[0mtarget\u001b[0m\u001b[0;34m=\u001b[0m\u001b[0mjetbot_color\u001b[0m\u001b[0;34m)\u001b[0m\u001b[0;34m\u001b[0m\u001b[0;34m\u001b[0m\u001b[0m\n\u001b[0m\u001b[1;32m      2\u001b[0m \u001b[0mthread3\u001b[0m\u001b[0;34m.\u001b[0m\u001b[0msetDaemon\u001b[0m\u001b[0;34m(\u001b[0m\u001b[0;32mTrue\u001b[0m\u001b[0;34m)\u001b[0m\u001b[0;34m\u001b[0m\u001b[0;34m\u001b[0m\u001b[0m\n\u001b[1;32m      3\u001b[0m \u001b[0mthread3\u001b[0m\u001b[0;34m.\u001b[0m\u001b[0mstart\u001b[0m\u001b[0;34m(\u001b[0m\u001b[0;34m)\u001b[0m\u001b[0;34m\u001b[0m\u001b[0;34m\u001b[0m\u001b[0m\n",
      "\u001b[0;31mNameError\u001b[0m: name 'jetbot_color' is not defined"
     ]
    }
   ],
   "source": [
    "thread3 = threading.Thread(target=jetbot_color)\n",
    "thread3.setDaemon(True)\n",
    "thread3.start()"
   ]
  },
  {
   "cell_type": "markdown",
   "metadata": {},
   "source": [
    "Ending onboard breathing RGB process"
   ]
  },
  {
   "cell_type": "code",
   "execution_count": 64,
   "metadata": {},
   "outputs": [],
   "source": [
    "stop_thread(thread2)"
   ]
  },
  {
   "cell_type": "markdown",
   "metadata": {},
   "source": [
    "Ending Jetbot movement process"
   ]
  },
  {
   "cell_type": "code",
   "execution_count": null,
   "metadata": {},
   "outputs": [],
   "source": [
    "stop_thread(thread2)\n",
    "robot.stop()"
   ]
  },
  {
   "cell_type": "code",
   "execution_count": null,
   "metadata": {},
   "outputs": [],
   "source": [
    "camera.stop()"
   ]
  },
  {
   "cell_type": "code",
   "execution_count": null,
   "metadata": {},
   "outputs": [],
   "source": []
  },
  {
   "cell_type": "code",
   "execution_count": null,
   "metadata": {},
   "outputs": [],
   "source": []
  },
  {
   "cell_type": "code",
   "execution_count": null,
   "metadata": {},
   "outputs": [],
   "source": []
  },
  {
   "cell_type": "code",
   "execution_count": null,
   "metadata": {},
   "outputs": [],
   "source": []
  },
  {
   "cell_type": "code",
   "execution_count": null,
   "metadata": {},
   "outputs": [],
   "source": []
  },
  {
   "cell_type": "code",
   "execution_count": null,
   "metadata": {},
   "outputs": [],
   "source": []
  },
  {
   "cell_type": "code",
   "execution_count": null,
   "metadata": {},
   "outputs": [],
   "source": []
  },
  {
   "cell_type": "code",
   "execution_count": null,
   "metadata": {},
   "outputs": [],
   "source": []
  },
  {
   "cell_type": "code",
   "execution_count": null,
   "metadata": {},
   "outputs": [],
   "source": []
  },
  {
   "cell_type": "code",
   "execution_count": null,
   "metadata": {},
   "outputs": [],
   "source": []
  },
  {
   "cell_type": "code",
   "execution_count": null,
   "metadata": {},
   "outputs": [],
   "source": []
  },
  {
   "cell_type": "code",
   "execution_count": null,
   "metadata": {},
   "outputs": [],
   "source": []
  },
  {
   "cell_type": "code",
   "execution_count": null,
   "metadata": {},
   "outputs": [],
   "source": []
  },
  {
   "cell_type": "code",
   "execution_count": null,
   "metadata": {},
   "outputs": [],
   "source": []
  },
  {
   "cell_type": "code",
   "execution_count": null,
   "metadata": {},
   "outputs": [],
   "source": []
  },
  {
   "cell_type": "code",
   "execution_count": null,
   "metadata": {},
   "outputs": [],
   "source": []
  },
  {
   "cell_type": "code",
   "execution_count": null,
   "metadata": {},
   "outputs": [],
   "source": []
  },
  {
   "cell_type": "code",
   "execution_count": null,
   "metadata": {},
   "outputs": [],
   "source": []
  },
  {
   "cell_type": "code",
   "execution_count": null,
   "metadata": {},
   "outputs": [],
   "source": []
  },
  {
   "cell_type": "code",
   "execution_count": null,
   "metadata": {},
   "outputs": [],
   "source": []
  },
  {
   "cell_type": "code",
   "execution_count": null,
   "metadata": {},
   "outputs": [],
   "source": []
  },
  {
   "cell_type": "code",
   "execution_count": null,
   "metadata": {},
   "outputs": [],
   "source": []
  },
  {
   "cell_type": "code",
   "execution_count": null,
   "metadata": {},
   "outputs": [],
   "source": []
  },
  {
   "cell_type": "code",
   "execution_count": null,
   "metadata": {},
   "outputs": [],
   "source": []
  },
  {
   "cell_type": "code",
   "execution_count": null,
   "metadata": {},
   "outputs": [],
   "source": []
  }
 ],
 "metadata": {
  "kernelspec": {
   "display_name": "Python 3",
   "language": "python",
   "name": "python3"
  },
  "language_info": {
   "codemirror_mode": {
    "name": "ipython",
    "version": 3
   },
   "file_extension": ".py",
   "mimetype": "text/x-python",
   "name": "python",
   "nbconvert_exporter": "python",
   "pygments_lexer": "ipython3",
   "version": "3.6.9"
  }
 },
 "nbformat": 4,
 "nbformat_minor": 4
}
